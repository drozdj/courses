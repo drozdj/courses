{
  "cells": [
    {
      "cell_type": "markdown",
      "metadata": {
        "colab_type": "text",
        "id": "3xG4g-yFKnhm"
      },
      "source": [
        "# 1) Foundations of Probability"
      ]
    },
    {
      "cell_type": "markdown",
      "metadata": {
        "colab_type": "text",
        "id": "q-cWOMku-lx_"
      },
      "source": [
        "[Vitor Kamada](https://www.linkedin.com/in/vitor-kamada-1b73a078)\n",
        "\n",
        "econometrics.methods@gmail.com\n",
        "\n",
        "Last updated 9-13-2020"
      ]
    },
    {
      "cell_type": "markdown",
      "metadata": {
        "colab_type": "text",
        "id": "JX0o6kS_g2mP"
      },
      "source": [
        "#### 1.1) What is the probability of getting a Head (H) or Tail (T), when you flip a coin? "
      ]
    },
    {
      "cell_type": "markdown",
      "metadata": {
        "colab_type": "text",
        "id": "-ABczChsiUmx"
      },
      "source": [
        "Let's visualize the concept of mutually exclusive, using Venn diagrams.\n",
        "\n",
        "First, let's import Python libraries to draw Venn diagrams."
      ]
    },
    {
      "cell_type": "code",
      "execution_count": 2,
      "metadata": {
        "colab": {},
        "colab_type": "code",
        "id": "qglfn6n3iTs5"
      },
      "outputs": [
        {
          "name": "stderr",
          "output_type": "stream",
          "text": [
            "/home/notjdr/miniconda3/envs/ECO5100/lib/python3.9/site-packages/scipy/__init__.py:146: UserWarning: A NumPy version >=1.16.5 and <1.23.0 is required for this version of SciPy (detected version 1.26.4\n",
            "  warnings.warn(f\"A NumPy version >={np_minversion} and <{np_maxversion}\"\n"
          ]
        }
      ],
      "source": [
        "from matplotlib import pyplot as plt\n",
        "from matplotlib_venn import venn2\n",
        "import matplotlib.patches as patches\n",
        "from IPython.display import Image"
      ]
    },
    {
      "cell_type": "markdown",
      "metadata": {
        "colab_type": "text",
        "id": "X25OpQRciT-x"
      },
      "source": [
        "Let's plot the events Head (H) and Tail (T) with respective probabilities:\n",
        "\n",
        "$$P(H)=\\frac{1}{2}$$ \n",
        "\n",
        "$$P(T)=\\frac{1}{2}$$\n"
      ]
    },
    {
      "cell_type": "code",
      "execution_count": 9,
      "metadata": {
        "colab": {
          "base_uri": "https://localhost:8080/",
          "height": 201
        },
        "colab_type": "code",
        "id": "_T_WC0_siiWR",
        "outputId": "11d03475-5783-46ab-cab1-113ba6ab4078"
      },
      "outputs": [
        {
          "data": {
            "text/plain": [
              "<matplotlib_venn._common.VennDiagram at 0x7fc2ec2e0ee0>"
            ]
          },
          "execution_count": 9,
          "metadata": {},
          "output_type": "execute_result"
        },
        {
          "data": {
            "image/png": "[encoded data removed]",
            "text/plain": [
              "<Figure size 640x480 with 1 Axes>"
            ]
          },
          "metadata": {},
          "output_type": "display_data"
        }
      ],
      "source": [
        "venn2( (1/2, 1/2, 0), set_labels = ('Head', 'Tail') )"
      ]
    },
    {
      "cell_type": "markdown",
      "metadata": {
        "colab_type": "text",
        "id": "MDZ3L6JBUJm2"
      },
      "source": [
        "Disjoint events are mutually exclusive, if they have no outcomes in common.\n",
        "\n",
        "When you flip a coin, the events Head (H) and Tail (T) are mutually exclusive. \n",
        "\n",
        "If $H$ and $T$ are disjoint events, then \n",
        "\n",
        "$$ P(H\\cup T) = P(H) + P(T) $$\n",
        "\n",
        "$$ = \\frac{1}{2} + \\frac{1}{2}$$\n",
        "\n",
        "$$ = 1 $$"
      ]
    },
    {
      "cell_type": "markdown",
      "metadata": {
        "colab_type": "text",
        "id": "eg9ASM2ozhiS"
      },
      "source": [
        "#### 1.2) A fair coin is tossed 3 times. Find the probability that the sequence (Tail, Head, and Tail) is obtained."
      ]
    },
    {
      "cell_type": "markdown",
      "metadata": {
        "colab_type": "text",
        "id": "0_PYx4jc0zHh"
      },
      "source": [
        "Two events A and B are said to be independent if the outcome of event A doesn't affect the outcome of event B and vice versa. Each time that a coin is tossed, there is no reason to believe that the result of one toss can affect the result of other toss. Therefore, the 3 events are independent from each other. In this case, we multiply the probability of each event.\n",
        "\n",
        "$$P(T) \\cdot P(H)\\cdot P(T)$$\n",
        "\n",
        "$$\\frac{1}{2} \\cdot \\frac{1}{2} \\cdot \\frac{1}{2}=\\frac{1}{8}$$"
      ]
    },
    {
      "cell_type": "markdown",
      "metadata": {
        "colab_type": "text",
        "id": "0RhR0qBq7h60"
      },
      "source": [
        "#### 1.3) A coin is tossed twice at random. What is the probability of getting at least one Tail?"
      ]
    },
    {
      "cell_type": "markdown",
      "metadata": {
        "colab_type": "text",
        "id": "gdK6h_MB73wx"
      },
      "source": [
        "The possible outcomes are HH, HT, TH, TT.\n",
        "\n",
        "Number of outcomes having at least one Tail: HT, TH, TT.\n",
        "\n",
        "The probability of getting at least one Tail is $\\frac{3}{4}$."
      ]
    },
    {
      "cell_type": "markdown",
      "metadata": {
        "colab_type": "text",
        "id": "FJUviw8QhpFx"
      },
      "source": [
        "#### 1.4) In a regular deck, what is the probability of getting a diamond card or face card?"
      ]
    },
    {
      "cell_type": "markdown",
      "metadata": {
        "colab_type": "text",
        "id": "ibXN1T8DZxCG"
      },
      "source": [
        "For any two events A and B, the probability that one or the other occurs is the sum of the probability minus the probability of their intersection:\n",
        "\n",
        "$$ P(A\\cup B) = P(A) + P(B) - P(A\\cap B) $$\n",
        "\n"
      ]
    },
    {
      "cell_type": "code",
      "execution_count": null,
      "metadata": {
        "colab": {
          "base_uri": "https://localhost:8080/",
          "height": 267
        },
        "colab_type": "code",
        "id": "pb_vgzadRWf3",
        "outputId": "ad82da7b-7fe1-4061-a4b7-a95e8ec44420"
      },
      "outputs": [],
      "source": [
        "venn2( (10, 9, 3) )"
      ]
    },
    {
      "cell_type": "markdown",
      "metadata": {
        "colab_type": "text",
        "id": "eb8Dz4AAmDir"
      },
      "source": [
        "$$ P(\\diamondsuit) + P(face\\ card) - P(\\diamondsuit \\cap face\\ card)$$\n",
        "\n",
        "$$ \\frac{13}{52} + \\frac{12}{52} - \\frac{3}{52} $$"
      ]
    },
    {
      "cell_type": "code",
      "execution_count": 8,
      "metadata": {},
      "outputs": [
        {
          "data": {
            "image/png": "[encoded data removed]",
            "text/plain": [
              "<IPython.core.display.Image object>"
            ]
          },
          "execution_count": 8,
          "metadata": {},
          "output_type": "execute_result"
        }
      ],
      "source": [
        "Image('data/09072024_130405.png')"
      ]
    },
    {
      "cell_type": "code",
      "execution_count": 14,
      "metadata": {
        "colab": {
          "base_uri": "https://localhost:8080/",
          "height": 35
        },
        "colab_type": "code",
        "id": "3VMYCMF8Kn1D",
        "outputId": "7234a9d1-252f-497c-c4c7-d7c4ae579d98"
      },
      "outputs": [
        {
          "data": {
            "text/plain": [
              "0.42"
            ]
          },
          "execution_count": 14,
          "metadata": {},
          "output_type": "execute_result"
        }
      ],
      "source": [
        "sum = 13/52 + 12/52 - 3/52\n",
        "round(sum, 2)"
      ]
    },
    {
      "cell_type": "markdown",
      "metadata": {
        "colab_type": "text",
        "id": "y2K9P2tAoRvo"
      },
      "source": [
        "#### 1.5) In a regular deck, is the event getting a heart card independent from the event getting an Ace? \n"
      ]
    },
    {
      "cell_type": "markdown",
      "metadata": {
        "colab_type": "text",
        "id": "Dv0lT_CSoRyp"
      },
      "source": [
        "Two events are independent if the occurrence of one does not affect the chances for the occurrence of the other. \n",
        "\n",
        "There is no reason to believe that getting a heart card can affect the probability of getting an Ace, and vice-versa.\n",
        "\n",
        "Two events A and B are independent if the probability that both A and B occur is the product of the probabilities of the two events:\n",
        "\n",
        "$$ P(A\\cap B) = P(A)\\cdot P(B) $$ \n",
        "\n",
        "$$ P(\\heartsuit \\cap Ace) = P(\\heartsuit)\\cdot P(Ace) $$\n",
        "\n",
        "$$ \\frac{1}{52} = \\frac{1}{4}\\cdot \\frac{1}{13} $$\n"
      ]
    },
    {
      "cell_type": "markdown",
      "metadata": {
        "colab_type": "text",
        "id": "C-RpgYyauukQ"
      },
      "source": [
        "$P(\\heartsuit \\cap Ace) = P(Ace\\ of\\ Hearts) = \\frac{1}{52}$\n",
        "\n",
        "$P(\\heartsuit) = \\frac{13}{52} = \\frac{1}{4}$\n",
        "\n",
        "$P(Ace) = \\frac{4}{52} = \\frac{1}{13}$\n",
        "\n",
        "Therefore, these two events are independent and can be written:\n",
        "\n",
        "$$ P(\\heartsuit) \\perp P(Ace)$$"
      ]
    },
    {
      "cell_type": "markdown",
      "metadata": {
        "colab_type": "text",
        "id": "3sPozHCz27a2"
      },
      "source": [
        "#### 1.6) According with Venn diagram below, events A and B are independent?"
      ]
    },
    {
      "cell_type": "code",
      "execution_count": null,
      "metadata": {
        "colab": {
          "base_uri": "https://localhost:8080/",
          "height": 201
        },
        "colab_type": "code",
        "id": "hkouU0Bc3H4Y",
        "outputId": "445def7f-5e6c-4d6d-ca34-bc2203162870"
      },
      "outputs": [],
      "source": [
        "venn2( (1/2, 1/2, 0) )"
      ]
    },
    {
      "cell_type": "markdown",
      "metadata": {
        "colab_type": "text",
        "id": "aB7cly6O3H-z"
      },
      "source": [
        "No. Events A and B are dependents.\n",
        "\n",
        "If I have the information that event A occurred, I know for sure that event B didn't occur, and vice-versa. \n",
        "\n",
        "It was given that $P(A) = 0.5$ and $P(B) = 0.5$.\n",
        "\n",
        "$$0 = P(A\\cap B) \\neq P(A)\\cdot P(B) = \\frac{1}{4}$$"
      ]
    },
    {
      "cell_type": "markdown",
      "metadata": {
        "colab_type": "text",
        "id": "MzgpKvWw6eH4"
      },
      "source": [
        "#### 1.7) When P(A|B) = P(A)?"
      ]
    },
    {
      "cell_type": "markdown",
      "metadata": {
        "colab_type": "text",
        "id": "w6q-z1347LCE"
      },
      "source": [
        "By definition, the probability of event A given that the event B occurs is:"
      ]
    },
    {
      "cell_type": "markdown",
      "metadata": {
        "colab_type": "text",
        "id": "K4tePa086mC6"
      },
      "source": [
        "$$P(A|B) = \\frac{P(A\\cap B)}{P(B)}$$"
      ]
    },
    {
      "cell_type": "markdown",
      "metadata": {
        "colab_type": "text",
        "id": "vDeS_kYb6pNo"
      },
      "source": [
        "If A and B are independent, then $P(A\\cap B) = P(A)\\cdot P(B)$\n"
      ]
    },
    {
      "cell_type": "markdown",
      "metadata": {
        "colab_type": "text",
        "id": "Xpy5yPNk7z2y"
      },
      "source": [
        "$$P(A|B) = \\frac{P(A)\\cdot P(B)}{P(B)}$$\n",
        "\n",
        "$$=P(A)$$"
      ]
    },
    {
      "cell_type": "markdown",
      "metadata": {
        "colab_type": "text",
        "id": "3NJqdooP8w6L"
      },
      "source": [
        "**Intuition**: Knowledge of event B doesn't affect the probability of event A."
      ]
    },
    {
      "cell_type": "markdown",
      "metadata": {
        "colab_type": "text",
        "id": "MhXEpYB0dX6y"
      },
      "source": [
        "#### 1.8) What is the probability that the total of two dice will be greater than 9, given that the first die is a 5?"
      ]
    },
    {
      "cell_type": "markdown",
      "metadata": {
        "colab_type": "text",
        "id": "kAO2owSTdfBm"
      },
      "source": [
        "Let A = first die is 5.\n",
        "\n",
        "Let B = total of two dice is greater than 9.\n",
        "\n",
        "$$P(A)=\\frac{1}{6}$$\n",
        "\n",
        "Possible outcomes for A and B: (5, 5), (5, 6):\n",
        "\n",
        "$$P(A \\ and \\ B)=\\frac{2}{36}=\\frac{1}{18}$$\n",
        "\n",
        "The asked probability is:\n",
        "\n",
        "$$P(B|A)=\\frac{P(A \\ and \\ B)}{P(A)}$$\n",
        "\n",
        "$$=\\frac{1/18}{1/6}=\\frac{1}{3}$$"
      ]
    },
    {
      "cell_type": "markdown",
      "metadata": {
        "colab_type": "text",
        "id": "elLScFrx23vb"
      },
      "source": [
        "#### 1.9) Why do you believe that the probability of getting a Tail in a fair coin is equal to $\\frac{1}{2}$?"
      ]
    },
    {
      "cell_type": "markdown",
      "metadata": {
        "colab_type": "text",
        "id": "Cw5m5Zyz3VxB"
      },
      "source": [
        "Probability = Long Run Relative Frequency\n",
        "\n",
        "The Law of Large Numbers (LLN): The relative frequency of an outcome converges to a number, as the number of observed outcomes increases.\n",
        "\n",
        "LLN assumes that events are independent.\n",
        "\n",
        "If you toss a coin thousands of times, the proportion of Tails will be likely closer to $\\frac{1}{2}$.\n",
        "\n",
        "Let's toss a coin 10,000 times and count how many Tails:"
      ]
    },
    {
      "cell_type": "code",
      "execution_count": null,
      "metadata": {
        "colab": {
          "base_uri": "https://localhost:8080/",
          "height": 35
        },
        "colab_type": "code",
        "id": "fy9QU3Ch7Ivg",
        "outputId": "b84f4e43-51af-4e79-ae49-0b20f7cc84a2"
      },
      "outputs": [],
      "source": [
        "# Library to generate random numbers\n",
        "import random\n",
        "\n",
        "# Simulation\n",
        "result= []\n",
        "\n",
        "for toss in range(10000):\n",
        "   coin = random.choice(['Head', 'Tail']) \n",
        "   result.append(coin)\n",
        "\n",
        "result.count('Tail')"
      ]
    },
    {
      "cell_type": "markdown",
      "metadata": {
        "colab_type": "text",
        "id": "GI6lfl2pFNJ1"
      },
      "source": [
        "#### 1.10) What is the number of trials for the Law of Large Numbers (LLN) to kick in?"
      ]
    },
    {
      "cell_type": "markdown",
      "metadata": {
        "colab_type": "text",
        "id": "5M7jLRnzNsqF"
      },
      "source": [
        "The question asked when the relative frequency of an outcome will be \"enough closer\" to the theoretical probability. It depends on your specific problem. In the case of flipping a coin, above 500 tosses, a \"reasonable\" approximation to the theoretical probability (1/2) can be obtained. See the simulation below."
      ]
    },
    {
      "cell_type": "code",
      "execution_count": null,
      "metadata": {
        "colab": {},
        "colab_type": "code",
        "id": "8AMmXrrYFNak"
      },
      "outputs": [],
      "source": [
        "# Simulation\n",
        "n=1\n",
        "prob=[]\n",
        "flip=[]\n",
        "\n",
        "while n < 2000:\n",
        "    head = 0\n",
        "    tail = 0\n",
        "\n",
        "    for i in range(n):\n",
        "        if random.randint(0,1) == 0:\n",
        "            head+=1 \n",
        "        else:\n",
        "            tail+=1\n",
        "\n",
        "    k = head/(head+tail)\n",
        "    prob.append(k)\n",
        "    flip.append(n)\n",
        "    n+= 1"
      ]
    },
    {
      "cell_type": "code",
      "execution_count": null,
      "metadata": {
        "colab": {
          "base_uri": "https://localhost:8080/",
          "height": 542
        },
        "colab_type": "code",
        "id": "vypnqmjsHDaM",
        "outputId": "88de8bdf-d705-4bc5-9213-c066bc6aabcb"
      },
      "outputs": [],
      "source": [
        "# Plot chart\n",
        "import plotly.express as px\n",
        "fig = px.scatter( x = flip, y = prob,\n",
        "             labels={\"x\": \"Number of Flips\",\n",
        "                     \"y\": \"Probability of Heads\"} )\n",
        "\n",
        "# Horizontal Line\n",
        "fig.update_layout( shapes = [\n",
        "    dict(\n",
        "      type= 'line',\n",
        "      yref= 'y', y0= 0.5, y1= 0.5,\n",
        "      xref= 'x', x0= 0, x1= 2000    )])\n",
        "                \n",
        "                \n",
        "fig.show()"
      ]
    },
    {
      "cell_type": "markdown",
      "metadata": {
        "colab_type": "text",
        "id": "UIZw3cQXRcuR"
      },
      "source": [
        "#### 1.11) If a female tests positive for breast cancer, what is the probability that she in fact has cancer? \n",
        "\n",
        "\n"
      ]
    },
    {
      "cell_type": "markdown",
      "metadata": {
        "colab_type": "text",
        "id": "Cm5VzJ6gWxH2"
      },
      "source": [
        "The question asked what the probability of a female has breast cancer conditional on she tested positive:\n",
        "\n",
        "$$P(Cancer|Test\\ Positive)$$\n",
        "\n",
        "$$= \\frac{P(Cancer\\cap Test  \\ Positive)}{P(Test \\  Positive)}$$\n",
        "\n",
        "Based on data from Banks et al. (2004), the probability of a mammography detects cancer is 0.87. Among females without cancer, the probability for a negative result is 0.97. The overall incidence of breast cancer is 0.003. \n",
        "\n",
        "We can calculate that:\n",
        "\n",
        "$$P(Cancer\\cap Test  \\ Positive)$$\n",
        "\n",
        "$$= P(Cancer)\\cdot P(Test \\ Positive|Cancer)$$\n",
        "\n",
        "$$= 0.003\\cdot 0.87$$ \n",
        "$$= 0.00261$$"
      ]
    },
    {
      "cell_type": "markdown",
      "metadata": {
        "colab_type": "text",
        "id": "T2Htdvgnglyd"
      },
      "source": [
        "$$P(No \\ Cancer\\cap Test \\ Negative)$$\n",
        "\n",
        "$$= P(No \\ Cancer)\\cdot P(Test \\ Negative\\ |No \\ Cancer)$$\n",
        "\n",
        "$$= 0.997\\cdot 0.97$$ \n",
        "$$= 0.96709$$"
      ]
    },
    {
      "cell_type": "markdown",
      "metadata": {
        "colab_type": "text",
        "id": "2NdVhxKQkt4l"
      },
      "source": [
        "It is easy to organize the information in a table:\n",
        "\n",
        "\n",
        "|          | Positive | Negative | Total  |\n",
        "|----------|----------|----------|--------|\n",
        "|Cancer    | 0.00261  |          | 0.003  |\n",
        "|No Cancer |          | 0.96709  | 0.997  |\n",
        "|Total     |          |          |    1   |\n"
      ]
    },
    {
      "cell_type": "markdown",
      "metadata": {
        "colab_type": "text",
        "id": "YR5Virl9mohV"
      },
      "source": [
        "We can infer the other values of the table, as the sum of the joint probabilities (inside) is equal to the marginal probability on the border. \n",
        "\n",
        "\n",
        "|          | Positive | Negative | Total |\n",
        "|----------|----------|----------|-------|\n",
        "|Cancer    | 0.00261  | 0.00039  | 0.003 |\n",
        "|No Cancer | 0.02991  | 0.96709  | 0.997 |\n",
        "|Total     | 0.03252  | 0.96748  |    1  |"
      ]
    },
    {
      "cell_type": "markdown",
      "metadata": {
        "colab_type": "text",
        "id": "tP89f4JXoALx"
      },
      "source": [
        "$$P(Cancer|Test\\ Positive)$$\n",
        "\n",
        "$$= \\frac{0.00261}{0.03252}$$\n",
        "\n",
        "$$=0.0803$$\n",
        "\n",
        "The probability that a female, who tested positive, has breast cancer is only 8%. This result is counter-intuitive, because humans do not process well events with very low probability. Unless, a person is educated in the probability laws, she might believe that she was cured by a divine force."
      ]
    },
    {
      "cell_type": "markdown",
      "metadata": {
        "colab_type": "text",
        "id": "GYKqwnv83ca9"
      },
      "source": [
        "#### 1.12) Is the test result independent of the disease?"
      ]
    },
    {
      "cell_type": "markdown",
      "metadata": {
        "colab_type": "text",
        "id": "g50hdWRl9vo-"
      },
      "source": [
        "Let's create a dataframe (df)."
      ]
    },
    {
      "cell_type": "code",
      "execution_count": null,
      "metadata": {
        "colab": {
          "base_uri": "https://localhost:8080/",
          "height": 110
        },
        "colab_type": "code",
        "id": "2o6z3diS9tZW",
        "outputId": "9f632ba4-46f2-4ac2-c4ec-d8e0ad183ccc"
      },
      "outputs": [],
      "source": [
        "disease = ['Cancer', 'No Cancer']\n",
        "positive = [0.00261, 0.02991]\n",
        "negative = [0.00039, 0.96709]\n",
        "\n",
        "columns = {'Disease':disease, 'Positive': positive,\n",
        "           'Negative': negative}\n",
        "\n",
        "import pandas as pd\n",
        "df = pd.DataFrame(columns)\n",
        "\n",
        "df['Total'] = df['Positive'] + df['Negative']\n",
        "df"
      ]
    },
    {
      "cell_type": "markdown",
      "metadata": {
        "colab_type": "text",
        "id": "bKKtHXSy4PZU"
      },
      "source": [
        "The test result is not independent of the disease, because:\n",
        "\n",
        "$$P(Positive)=0.03252$$\n",
        "\n",
        "$$P(No\\ Cancer)=0.997$$\n",
        "\n",
        "$$P(Positive) \\cdot P(No\\ Cancer)=0.03242244$$\n",
        "\n",
        "$$P(Positive \\cap No \\ Cancer)=0.02991$$\n",
        "\n",
        "Just one counter example is enough to prove that the test result and disease are dependent events.\n",
        "\n",
        "$$P(Positive) \\cdot P(No\\ Cancer) \\neq P(Positive \\cap No \\ Cancer)$$"
      ]
    },
    {
      "cell_type": "code",
      "execution_count": null,
      "metadata": {
        "colab": {
          "base_uri": "https://localhost:8080/",
          "height": 35
        },
        "colab_type": "code",
        "id": "xeZrmw0l5g9y",
        "outputId": "a250ee0b-7fd0-439d-b9ba-562617af3182"
      },
      "outputs": [],
      "source": [
        "0.03252*0.997"
      ]
    },
    {
      "cell_type": "markdown",
      "metadata": {
        "colab_type": "text",
        "id": "n9byUhiE9B0W"
      },
      "source": [
        "Let's get additional intuition, transforming the table. Let's take the joint probabilities and divide by the marginal probabilities.\n",
        "\n",
        "Without information about the test result, an educated guess is that the probability of random female has breast cancer is 0.3%. But if I receive the additional information that this female was tested positive, I would update her probability of having cancer to 8%. In this case, the conditional probability $P(Cancer|Positive)$ is bigger than the marginal probability $P(Cancer)$. Bigger this difference, more relevant is the new information and higher is the degree of dependency between test result and disease.\n"
      ]
    },
    {
      "cell_type": "code",
      "execution_count": null,
      "metadata": {
        "colab": {
          "base_uri": "https://localhost:8080/",
          "height": 110
        },
        "colab_type": "code",
        "id": "Eu46HzuRxZpH",
        "outputId": "523a5923-08e2-44ad-b971-4b27d6076a45"
      },
      "outputs": [],
      "source": [
        "# joint probabilities / marginal probabilities\n",
        "df['Negative'] = df['Negative']/df['Negative'].sum()\n",
        "df['Positive'] = df['Positive']/df['Positive'].sum()\n",
        "df"
      ]
    },
    {
      "cell_type": "markdown",
      "metadata": {
        "colab_type": "text",
        "id": "8bDxuGofGAza"
      },
      "source": [
        "Let's assume a situation, where the test result is useless, that is, the test result is independent from the disease. We would see the cooked numbers below in the table."
      ]
    },
    {
      "cell_type": "code",
      "execution_count": null,
      "metadata": {
        "colab": {
          "base_uri": "https://localhost:8080/",
          "height": 110
        },
        "colab_type": "code",
        "id": "PlHT1DU2GtdQ",
        "outputId": "5b3a7301-7827-44dc-d763-015a10952390"
      },
      "outputs": [],
      "source": [
        "df['Negative'] = df['Total']\n",
        "df['Positive'] = df['Total']\n",
        "df"
      ]
    },
    {
      "cell_type": "markdown",
      "metadata": {
        "colab_type": "text",
        "id": "QKZQTL-kzGQm"
      },
      "source": [
        "## Exercises"
      ]
    },
    {
      "cell_type": "markdown",
      "metadata": {
        "colab_type": "text",
        "id": "borfb5Fe4dCS"
      },
      "source": [
        "1| Disjoint events are not equal independent events. Define in plain English the difference between both concepts."
      ]
    },
    {
      "cell_type": "markdown",
      "metadata": {
        "colab_type": "text",
        "id": "l-x8fsNAzMsp"
      },
      "source": [
        "2| Assume a fair coin: P(H) = 0.5 and P(T) = 0.5. Is the event getting a Tail independent from the event getting a Head? Justify your answer rigorously."
      ]
    },
    {
      "cell_type": "markdown",
      "metadata": {
        "colab_type": "text",
        "id": "fnaTCyNm-QlT"
      },
      "source": [
        "3| Let A = {The roll of a die is odd} and B = {The roll of a die is even}. Are the two events mutually exclusive? Are the two events independent? Justify."
      ]
    },
    {
      "cell_type": "markdown",
      "metadata": {
        "colab_type": "text",
        "id": "_0BuZULflCYw"
      },
      "source": [
        "4| Vitor gave his class two tests. 25% of the class passed both tests and 42% of the class passed the first test. What percent of those who passed the first test also passed the second test?"
      ]
    },
    {
      "cell_type": "markdown",
      "metadata": {
        "colab_type": "text",
        "id": "sMqV3ikWB1gg"
      },
      "source": [
        "5| Write a code to roll a die 60,000 times and count how many times the face 3 show up."
      ]
    },
    {
      "cell_type": "markdown",
      "metadata": {
        "colab_type": "text",
        "id": "2z3to3HFLevn"
      },
      "source": [
        "6| Let A = {student is absent} and C = {student has coronavirus}. Decide if each statement is True or False. Justify your choice."
      ]
    },
    {
      "cell_type": "markdown",
      "metadata": {
        "colab_type": "text",
        "id": "1o4o-_zTUnVU"
      },
      "source": [
        "a) If the probability for a student to be absent is greater than the probability for a student has coronavirus, then $P(A|C) > P(C|A)$."
      ]
    },
    {
      "cell_type": "markdown",
      "metadata": {
        "colab_type": "text",
        "id": "2v_jUOY0WYw_"
      },
      "source": [
        "b) The probability that a student has coronavirus when it is known that the student is absent is equal to the probability that a student is absent when it is known that the student has coronavirus."
      ]
    },
    {
      "cell_type": "markdown",
      "metadata": {
        "colab_type": "text",
        "id": "7tJJhMiDXKTW"
      },
      "source": [
        "c) If the probability for a student to be absent is greater than the probability for a student to be sick, then A and C are dependent events."
      ]
    },
    {
      "cell_type": "markdown",
      "metadata": {
        "colab_type": "text",
        "id": "7bMFrZcCY2L3"
      },
      "source": [
        "d) The probability of a student being absent is greater than the probability that the student is absent given that the student has coronavirus."
      ]
    },
    {
      "cell_type": "markdown",
      "metadata": {
        "colab_type": "text",
        "id": "x8CLUkRiUNxd"
      },
      "source": [
        "7| Events A and B are independent. Draw both events, using the function 'venn2'. Use the numbers of your Venn diagram to prove that A and B are independent."
      ]
    },
    {
      "cell_type": "markdown",
      "metadata": {
        "colab_type": "text",
        "id": "xSpzvXHjLyhv"
      },
      "source": [
        "## Reference"
      ]
    },
    {
      "cell_type": "markdown",
      "metadata": {
        "colab_type": "text",
        "id": "ugC0ZiKBUMlQ"
      },
      "source": [
        "Adhikari, A., Pitman, J. (2020). [Probability for Data Science](http://prob140.org/textbook/README.html). \n",
        "\n",
        "\n",
        "Banks, Emily et al. (2004). Influence of personal characteristics of individual women on sensitivity and specificity of mammography in the Million Women Study: cohort study. BMJ (Clinical research ed.) vol. 329,7464: 477. doi:10.1136/bmj.329.7464.477\n",
        "\n",
        "Diez, D. M., Barr, C. D., Çetinkaya-Rundel, M. (2014). [Introductory Statistics with Randomization and Simulation](https://www.openintro.org/stat/textbook.php?stat_book=isrs)."
      ]
    }
  ],
  "metadata": {
    "colab": {
      "name": "1)_Foundations_of_Probability.ipynb",
      "provenance": []
    },
    "kernelspec": {
      "display_name": "Python 3",
      "language": "python",
      "name": "python3"
    },
    "language_info": {
      "codemirror_mode": {
        "name": "ipython",
        "version": 3
      },
      "file_extension": ".py",
      "mimetype": "text/x-python",
      "name": "python",
      "nbconvert_exporter": "python",
      "pygments_lexer": "ipython3",
      "version": "3.9.19"
    }
  },
  "nbformat": 4,
  "nbformat_minor": 0
}
