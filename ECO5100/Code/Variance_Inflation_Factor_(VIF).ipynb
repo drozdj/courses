{
  "nbformat": 4,
  "nbformat_minor": 0,
  "metadata": {
    "colab": {
      "name": "Variance Inflation Factor (VIF).ipynb",
      "provenance": []
    },
    "kernelspec": {
      "name": "python3",
      "display_name": "Python 3"
    }
  },
  "cells": [
    {
      "cell_type": "markdown",
      "metadata": {
        "id": "e78F26jPp5Oy",
        "colab_type": "text"
      },
      "source": [
        "**ECO 5100 Introductory Statistics and Econometrics (Fall 2019)**"
      ]
    },
    {
      "cell_type": "markdown",
      "metadata": {
        "id": "4IjlsjlZnL6j",
        "colab_type": "text"
      },
      "source": [
        "**Variance Inflation Factor (VIF)**"
      ]
    },
    {
      "cell_type": "markdown",
      "metadata": {
        "id": "YKUVvesumu1s",
        "colab_type": "text"
      },
      "source": [
        "1) Let's study the relationship between height and wages among British men."
      ]
    },
    {
      "cell_type": "markdown",
      "metadata": {
        "id": "Q0cFw_Laxjmd",
        "colab_type": "text"
      },
      "source": [
        "**Data from:**\n",
        "Persico, Nicola, Andrew Postlewaite, and Dan Silverman. 2004. The Effect of Adolescent Experience on Labor Market Outcomes: The Case of Height. Journal of Political Economy 112 (5): 1019–1053."
      ]
    },
    {
      "cell_type": "markdown",
      "metadata": {
        "id": "xKs9yWkYnlIV",
        "colab_type": "text"
      },
      "source": [
        "**Variables for Height and Wages Data in Britain**\n",
        "\n",
        "**gwage33**: Hourly wages (in British pounds) at age 33\n",
        "\n",
        "**height33**: Height (in inches) measured at age 33\n",
        "\n",
        "**height16**: Height (in inches) measured at age 16\n",
        "\n",
        "**height07**: Height (in inches) measured at age 7\n",
        "\n",
        "**momed**: Education of mother, measured in years\n",
        "\n",
        "**daded**: Education of father, measured in years\n",
        "\n",
        "**siblings**: Number of siblings\n",
        "\n",
        "**Ht16Noisy**: Height (in inches) measured at age 16 with measurement error added in\n"
      ]
    },
    {
      "cell_type": "code",
      "metadata": {
        "id": "tDBJdb8GqsOU",
        "colab_type": "code",
        "colab": {}
      },
      "source": [
        "import pandas as pd\n",
        "file = \"https://github.com/VitorKamada/ECO6100/raw/master/Data/heightwage_british_males_multivariate.csv\" \n",
        "df = pd.read_csv(file)"
      ],
      "execution_count": 0,
      "outputs": []
    },
    {
      "cell_type": "code",
      "metadata": {
        "id": "2r57zeAPqvcj",
        "colab_type": "code",
        "outputId": "63f4f2af-9532-47cd-87c2-fc97a5c3e1d7",
        "colab": {
          "base_uri": "https://localhost:8080/",
          "height": 204
        }
      },
      "source": [
        "df.head()"
      ],
      "execution_count": 2,
      "outputs": [
        {
          "output_type": "execute_result",
          "data": {
            "text/html": [
              "<div>\n",
              "<style scoped>\n",
              "    .dataframe tbody tr th:only-of-type {\n",
              "        vertical-align: middle;\n",
              "    }\n",
              "\n",
              "    .dataframe tbody tr th {\n",
              "        vertical-align: top;\n",
              "    }\n",
              "\n",
              "    .dataframe thead th {\n",
              "        text-align: right;\n",
              "    }\n",
              "</style>\n",
              "<table border=\"1\" class=\"dataframe\">\n",
              "  <thead>\n",
              "    <tr style=\"text-align: right;\">\n",
              "      <th></th>\n",
              "      <th>siblings</th>\n",
              "      <th>height07</th>\n",
              "      <th>height16</th>\n",
              "      <th>height33</th>\n",
              "      <th>gwage33</th>\n",
              "      <th>momed</th>\n",
              "      <th>daded</th>\n",
              "      <th>Ht16Noisy</th>\n",
              "    </tr>\n",
              "  </thead>\n",
              "  <tbody>\n",
              "    <tr>\n",
              "      <th>0</th>\n",
              "      <td>NaN</td>\n",
              "      <td>47.007847</td>\n",
              "      <td>65.354324</td>\n",
              "      <td>66.929131</td>\n",
              "      <td>12.428572</td>\n",
              "      <td>9.5</td>\n",
              "      <td>9.5</td>\n",
              "      <td>70.244843</td>\n",
              "    </tr>\n",
              "    <tr>\n",
              "      <th>1</th>\n",
              "      <td>4.0</td>\n",
              "      <td>49.999981</td>\n",
              "      <td>NaN</td>\n",
              "      <td>70.078743</td>\n",
              "      <td>7.027027</td>\n",
              "      <td>NaN</td>\n",
              "      <td>NaN</td>\n",
              "      <td>NaN</td>\n",
              "    </tr>\n",
              "    <tr>\n",
              "      <th>2</th>\n",
              "      <td>4.0</td>\n",
              "      <td>49.015743</td>\n",
              "      <td>NaN</td>\n",
              "      <td>70.078743</td>\n",
              "      <td>5.121951</td>\n",
              "      <td>NaN</td>\n",
              "      <td>NaN</td>\n",
              "      <td>NaN</td>\n",
              "    </tr>\n",
              "    <tr>\n",
              "      <th>3</th>\n",
              "      <td>3.0</td>\n",
              "      <td>47.992119</td>\n",
              "      <td>NaN</td>\n",
              "      <td>68.897636</td>\n",
              "      <td>8.333333</td>\n",
              "      <td>10.5</td>\n",
              "      <td>10.5</td>\n",
              "      <td>NaN</td>\n",
              "    </tr>\n",
              "    <tr>\n",
              "      <th>4</th>\n",
              "      <td>NaN</td>\n",
              "      <td>45.984222</td>\n",
              "      <td>NaN</td>\n",
              "      <td>66.141731</td>\n",
              "      <td>11.333333</td>\n",
              "      <td>9.5</td>\n",
              "      <td>9.5</td>\n",
              "      <td>NaN</td>\n",
              "    </tr>\n",
              "  </tbody>\n",
              "</table>\n",
              "</div>"
            ],
            "text/plain": [
              "   siblings   height07   height16  ...  momed  daded  Ht16Noisy\n",
              "0       NaN  47.007847  65.354324  ...    9.5    9.5  70.244843\n",
              "1       4.0  49.999981        NaN  ...    NaN    NaN        NaN\n",
              "2       4.0  49.015743        NaN  ...    NaN    NaN        NaN\n",
              "3       3.0  47.992119        NaN  ...   10.5   10.5        NaN\n",
              "4       NaN  45.984222        NaN  ...    9.5    9.5        NaN\n",
              "\n",
              "[5 rows x 8 columns]"
            ]
          },
          "metadata": {
            "tags": []
          },
          "execution_count": 2
        }
      ]
    },
    {
      "cell_type": "markdown",
      "metadata": {
        "id": "rSlTtygBpo0F",
        "colab_type": "text"
      },
      "source": [
        "(a)\tPersico, Postlewaite, and Silverman (2004) argue that adolescent height is most relevant because it is height at adolescent ages that affects the self-confidence to develop interpersonal skills at a young age. Estimate a model with wages at age 33 as the dependent variable and height both at age 33 and at age 16 as independent variables. What happens to the coefficient on height at age 33? Explain what is going on here."
      ]
    },
    {
      "cell_type": "markdown",
      "metadata": {
        "id": "IQ-x1yMhqGJL",
        "colab_type": "text"
      },
      "source": [
        "The coefficient on adolescent height (height16) is statistically significant (p = 0.015), with the coefficient indicating that an additional inch of height is associated with 0.32 more British pounds per hour at age 33. There is no discernible effect of adult height on wages. "
      ]
    },
    {
      "cell_type": "code",
      "metadata": {
        "id": "sp3hGrz5_oCm",
        "colab_type": "code",
        "colab": {}
      },
      "source": [
        "import numpy as np            \n",
        "df['const'] = 1"
      ],
      "execution_count": 0,
      "outputs": []
    },
    {
      "cell_type": "code",
      "metadata": {
        "id": "kHM50zHcIo62",
        "colab_type": "code",
        "colab": {
          "base_uri": "https://localhost:8080/",
          "height": 489
        },
        "outputId": "d35a2085-4aa8-4585-cd57-949098a5296d"
      },
      "source": [
        "import statsmodels.api as sm\n",
        "naive = sm.OLS(df['gwage33'], df[['const', 'height33']],\n",
        "                    missing='drop').fit()\n",
        "print(naive.summary())"
      ],
      "execution_count": 4,
      "outputs": [
        {
          "output_type": "stream",
          "text": [
            "                            OLS Regression Results                            \n",
            "==============================================================================\n",
            "Dep. Variable:                gwage33   R-squared:                       0.004\n",
            "Model:                            OLS   Adj. R-squared:                  0.003\n",
            "Method:                 Least Squares   F-statistic:                     13.58\n",
            "Date:                Sat, 05 Oct 2019   Prob (F-statistic):           0.000232\n",
            "Time:                        23:01:02   Log-Likelihood:                -14062.\n",
            "No. Observations:                3597   AIC:                         2.813e+04\n",
            "Df Residuals:                    3595   BIC:                         2.814e+04\n",
            "Df Model:                           1                                         \n",
            "Covariance Type:            nonrobust                                         \n",
            "==============================================================================\n",
            "                 coef    std err          t      P>|t|      [0.025      0.975]\n",
            "------------------------------------------------------------------------------\n",
            "const        -10.2042      5.303     -1.924      0.054     -20.602       0.194\n",
            "height33       0.2801      0.076      3.685      0.000       0.131       0.429\n",
            "==============================================================================\n",
            "Omnibus:                     4867.157   Durbin-Watson:                   1.966\n",
            "Prob(Omnibus):                  0.000   Jarque-Bera (JB):           828014.568\n",
            "Skew:                           7.867   Prob(JB):                         0.00\n",
            "Kurtosis:                      75.644   Cond. No.                     1.84e+03\n",
            "==============================================================================\n",
            "\n",
            "Warnings:\n",
            "[1] Standard Errors assume that the covariance matrix of the errors is correctly specified.\n",
            "[2] The condition number is large, 1.84e+03. This might indicate that there are\n",
            "strong multicollinearity or other numerical problems.\n"
          ],
          "name": "stdout"
        }
      ]
    },
    {
      "cell_type": "code",
      "metadata": {
        "id": "0ujmnE82_cSK",
        "colab_type": "code",
        "colab": {
          "base_uri": "https://localhost:8080/",
          "height": 507
        },
        "outputId": "c8796c45-4360-4a86-b989-c04efe0cc80f"
      },
      "source": [
        "result1 = sm.OLS(df['gwage33'], df[['const', 'height33', 'height16']],\n",
        "                    missing='drop').fit()\n",
        "print(result1.summary())"
      ],
      "execution_count": 5,
      "outputs": [
        {
          "output_type": "stream",
          "text": [
            "                            OLS Regression Results                            \n",
            "==============================================================================\n",
            "Dep. Variable:                gwage33   R-squared:                       0.005\n",
            "Model:                            OLS   Adj. R-squared:                  0.004\n",
            "Method:                 Least Squares   F-statistic:                     6.423\n",
            "Date:                Sat, 05 Oct 2019   Prob (F-statistic):            0.00165\n",
            "Time:                        23:01:02   Log-Likelihood:                -10301.\n",
            "No. Observations:                2592   AIC:                         2.061e+04\n",
            "Df Residuals:                    2589   BIC:                         2.063e+04\n",
            "Df Model:                           2                                         \n",
            "Covariance Type:            nonrobust                                         \n",
            "==============================================================================\n",
            "                 coef    std err          t      P>|t|      [0.025      0.975]\n",
            "------------------------------------------------------------------------------\n",
            "const         -9.5891      6.763     -1.418      0.156     -22.851       3.673\n",
            "height33      -0.0337      0.153     -0.221      0.825      -0.333       0.266\n",
            "height16       0.3208      0.132      2.430      0.015       0.062       0.580\n",
            "==============================================================================\n",
            "Omnibus:                     3435.638   Durbin-Watson:                   1.975\n",
            "Prob(Omnibus):                  0.000   Jarque-Bera (JB):           502342.792\n",
            "Skew:                           7.561   Prob(JB):                         0.00\n",
            "Kurtosis:                      69.503   Cond. No.                     2.59e+03\n",
            "==============================================================================\n",
            "\n",
            "Warnings:\n",
            "[1] Standard Errors assume that the covariance matrix of the errors is correctly specified.\n",
            "[2] The condition number is large, 2.59e+03. This might indicate that there are\n",
            "strong multicollinearity or other numerical problems.\n"
          ],
          "name": "stdout"
        }
      ]
    },
    {
      "cell_type": "markdown",
      "metadata": {
        "id": "oztMxo61qGXz",
        "colab_type": "text"
      },
      "source": [
        "(b)\tLet’s keep going. Add height at age 7 to the above model and discuss the results. Be sure to note changes in sample size (and its possible effects), and discuss the implications of adding a variable with the statistical significance observed for the “height at age 7” variable."
      ]
    },
    {
      "cell_type": "markdown",
      "metadata": {
        "id": "Trk3d-gNqGfS",
        "colab_type": "text"
      },
      "source": [
        "The results are different because now the coefficient on adolescent height (height16) is no longer statistically significant. The coefficients on the other two height variables are also not statistically significant.\n",
        "However, note that the coefficient on adolescent height is almost statistically significant (with p = 0.104) and that we have introduced two factors that likely reduce our statistical power (and thereby increase our standard errors). First, the sample size is smaller (because data was missing for almost 400 people on their height at age 7) and we have added a variable that may be correlated with the other height variables (more on this below). \n"
      ]
    },
    {
      "cell_type": "code",
      "metadata": {
        "id": "r8LYeyQSAReB",
        "colab_type": "code",
        "colab": {
          "base_uri": "https://localhost:8080/",
          "height": 524
        },
        "outputId": "7023693d-5857-4593-b5f7-902ce7738d05"
      },
      "source": [
        "result2 = sm.OLS(df['gwage33'], df[['const', 'height33', 'height16', 'height07']],\n",
        "                    missing='drop').fit()\n",
        "print(result2.summary())"
      ],
      "execution_count": 6,
      "outputs": [
        {
          "output_type": "stream",
          "text": [
            "                            OLS Regression Results                            \n",
            "==============================================================================\n",
            "Dep. Variable:                gwage33   R-squared:                       0.004\n",
            "Model:                            OLS   Adj. R-squared:                  0.003\n",
            "Method:                 Least Squares   F-statistic:                     3.094\n",
            "Date:                Sat, 05 Oct 2019   Prob (F-statistic):             0.0260\n",
            "Time:                        23:01:02   Log-Likelihood:                -8667.2\n",
            "No. Observations:                2199   AIC:                         1.734e+04\n",
            "Df Residuals:                    2195   BIC:                         1.737e+04\n",
            "Df Model:                           3                                         \n",
            "Covariance Type:            nonrobust                                         \n",
            "==============================================================================\n",
            "                 coef    std err          t      P>|t|      [0.025      0.975]\n",
            "------------------------------------------------------------------------------\n",
            "const         -7.9765      7.212     -1.106      0.269     -22.119       6.166\n",
            "height33      -0.0587      0.168     -0.350      0.726      -0.387       0.270\n",
            "height16       0.2466      0.152      1.628      0.104      -0.050       0.544\n",
            "height07       0.1032      0.183      0.565      0.572      -0.255       0.461\n",
            "==============================================================================\n",
            "Omnibus:                     2943.410   Durbin-Watson:                   1.966\n",
            "Prob(Omnibus):                  0.000   Jarque-Bera (JB):           453939.103\n",
            "Skew:                           7.634   Prob(JB):                         0.00\n",
            "Kurtosis:                      71.711   Cond. No.                     2.94e+03\n",
            "==============================================================================\n",
            "\n",
            "Warnings:\n",
            "[1] Standard Errors assume that the covariance matrix of the errors is correctly specified.\n",
            "[2] The condition number is large, 2.94e+03. This might indicate that there are\n",
            "strong multicollinearity or other numerical problems.\n"
          ],
          "name": "stdout"
        }
      ]
    },
    {
      "cell_type": "markdown",
      "metadata": {
        "id": "yZTiTSjcqdGD",
        "colab_type": "text"
      },
      "source": [
        "(c)\tIs there multicollinearity in the model from part (b)? Qualify the degree of multicollinearity and indicate its consequences. Specify whether the multicollinearity will bias coefficients or have some other effect."
      ]
    },
    {
      "cell_type": "markdown",
      "metadata": {
        "id": "NXOWJnc4CZQI",
        "colab_type": "text"
      },
      "source": [
        "First, it seems plausible that the various height measures will be collinear because people who are tall probably tended to be taller at each age. One direct way to assess multicollinearity is the “vif” command (the variance inflation factor). The results are below and indicate the inflation of the variance of the coefficient estimates because of multicollinearity. The variance of the height16 variable, for example, is 2.99 times larger than it would be if the height16 variable were not at all linearly correlated with the other two independent variables.\n",
        "Note this does not say the variance on this variable is incorrect, only that it is larger than it would be if we had independent variables that were not linearly related. Multicollinearity also does not bias the coefficient estimates.\n"
      ]
    },
    {
      "cell_type": "markdown",
      "metadata": {
        "id": "rJyhxuO5Cf3I",
        "colab_type": "text"
      },
      "source": [
        "Note this does not say the variance on this variable is incorrect, only that it is larger than it would be if we had independent variables that were not linearly related. Multicollinearity also does not bias the coefficient estimates."
      ]
    },
    {
      "cell_type": "markdown",
      "metadata": {
        "id": "o7ZQGuUcCis3",
        "colab_type": "text"
      },
      "source": [
        "We can also use an auxiliary regression to directly assess the degree of multicollinearity. Below we show the results when height33 is a dependent variable and the other two height variables are independent variables. The other two variables are strong linear predictors of height33 and the R2 is 0.6335. We can see how the R2 from this equation is related to the vif by noting (below the regression results) that the vif above for height33 = 1/(1 - R2) where the R2 is from the auxiliary regression in which height33 is the dependent variable. "
      ]
    },
    {
      "cell_type": "code",
      "metadata": {
        "id": "J6WGXcDsmvzq",
        "colab_type": "code",
        "outputId": "eb1f6d8a-2655-437e-86f0-a875981c50b7",
        "colab": {
          "base_uri": "https://localhost:8080/",
          "height": 507
        }
      },
      "source": [
        "result3 = sm.OLS(df['height33'], df[['const', 'height16', 'height07']],\n",
        "                    missing='drop').fit()\n",
        "print(result3.summary())"
      ],
      "execution_count": 7,
      "outputs": [
        {
          "output_type": "stream",
          "text": [
            "                            OLS Regression Results                            \n",
            "==============================================================================\n",
            "Dep. Variable:               height33   R-squared:                       0.633\n",
            "Model:                            OLS   Adj. R-squared:                  0.633\n",
            "Method:                 Least Squares   F-statistic:                     1898.\n",
            "Date:                Sat, 05 Oct 2019   Prob (F-statistic):               0.00\n",
            "Time:                        23:01:02   Log-Likelihood:                -4135.1\n",
            "No. Observations:                2199   AIC:                             8276.\n",
            "Df Residuals:                    2196   BIC:                             8293.\n",
            "Df Model:                           2                                         \n",
            "Covariance Type:            nonrobust                                         \n",
            "==============================================================================\n",
            "                 coef    std err          t      P>|t|      [0.025      0.975]\n",
            "------------------------------------------------------------------------------\n",
            "const         20.7149      0.805     25.744      0.000      19.137      22.293\n",
            "height16       0.4944      0.016     30.614      0.000       0.463       0.526\n",
            "height07       0.3280      0.022     14.798      0.000       0.285       0.372\n",
            "==============================================================================\n",
            "Omnibus:                      230.311   Durbin-Watson:                   1.985\n",
            "Prob(Omnibus):                  0.000   Jarque-Bera (JB):              388.767\n",
            "Skew:                           0.725   Prob(JB):                     3.80e-85\n",
            "Kurtosis:                       4.464   Cond. No.                     1.97e+03\n",
            "==============================================================================\n",
            "\n",
            "Warnings:\n",
            "[1] Standard Errors assume that the covariance matrix of the errors is correctly specified.\n",
            "[2] The condition number is large, 1.97e+03. This might indicate that there are\n",
            "strong multicollinearity or other numerical problems.\n"
          ],
          "name": "stdout"
        }
      ]
    },
    {
      "cell_type": "code",
      "metadata": {
        "id": "euFn_t2UCuQ_",
        "colab_type": "code",
        "colab": {
          "base_uri": "https://localhost:8080/",
          "height": 34
        },
        "outputId": "5e73f2ba-80a0-45c3-80e4-313eab95623b"
      },
      "source": [
        "vif_height33 = 1/(1-result3.rsquared)\n",
        "vif_height33"
      ],
      "execution_count": 8,
      "outputs": [
        {
          "output_type": "execute_result",
          "data": {
            "text/plain": [
              "2.7283033771949476"
            ]
          },
          "metadata": {
            "tags": []
          },
          "execution_count": 8
        }
      ]
    },
    {
      "cell_type": "code",
      "metadata": {
        "id": "gPPm1klyEVh5",
        "colab_type": "code",
        "colab": {
          "base_uri": "https://localhost:8080/",
          "height": 34
        },
        "outputId": "73dabc94-0b6d-4da5-f021-adf390e60546"
      },
      "source": [
        "result4 = sm.OLS(df['height16'], df[['const', 'height33', 'height07']],\n",
        "                    missing='drop').fit()\n",
        "vif_height16 = 1/(1-result4.rsquared)\n",
        "vif_height16"
      ],
      "execution_count": 9,
      "outputs": [
        {
          "output_type": "execute_result",
          "data": {
            "text/plain": [
              "2.9896686747771"
            ]
          },
          "metadata": {
            "tags": []
          },
          "execution_count": 9
        }
      ]
    },
    {
      "cell_type": "code",
      "metadata": {
        "id": "mLQzWhnVEVqO",
        "colab_type": "code",
        "colab": {
          "base_uri": "https://localhost:8080/",
          "height": 34
        },
        "outputId": "3ec41518-1c12-40c0-a5d0-77b9f3d6c9df"
      },
      "source": [
        "result5 = sm.OLS(df['height07'], df[['const', 'height33', 'height16']],\n",
        "                    missing='drop').fit()\n",
        "vif_height07 = 1/(1-result5.rsquared)\n",
        "vif_height07"
      ],
      "execution_count": 10,
      "outputs": [
        {
          "output_type": "execute_result",
          "data": {
            "text/plain": [
              "2.304329526258211"
            ]
          },
          "metadata": {
            "tags": []
          },
          "execution_count": 10
        }
      ]
    },
    {
      "cell_type": "markdown",
      "metadata": {
        "id": "IbQw1KiRrQfM",
        "colab_type": "text"
      },
      "source": [
        "(d)\tPerhaps characteristics of parents affect height (some parents force kids to eat veggies, whereas others give them only French fries and Fanta). Add the two parental education variables to the model and discuss results. Include only height at age 16 (meaning we do not include the height at ages 33 and 7 for this question—although feel free to include them too on your own; the results are interesting). "
      ]
    },
    {
      "cell_type": "markdown",
      "metadata": {
        "id": "672RTPm0rQl8",
        "colab_type": "text"
      },
      "source": [
        "We see that mother’s education is significantly associated with higher wages (p = 0.024), but that father’s education is not. This may be surprising given that this is a sample of men. The adolescent height variable is statistically significant (p = 0.002) and roughly the same magnitude as we have seen earlier.  "
      ]
    },
    {
      "cell_type": "code",
      "metadata": {
        "id": "D4r0tMhjFaNI",
        "colab_type": "code",
        "colab": {
          "base_uri": "https://localhost:8080/",
          "height": 524
        },
        "outputId": "50d218bd-6de2-46a2-97a7-e66353d95909"
      },
      "source": [
        "result6 = sm.OLS(df['gwage33'], df[['const', 'height16', 'momed', 'daded']],\n",
        "                    missing='drop').fit()\n",
        "print(result6.summary())"
      ],
      "execution_count": 11,
      "outputs": [
        {
          "output_type": "stream",
          "text": [
            "                            OLS Regression Results                            \n",
            "==============================================================================\n",
            "Dep. Variable:                gwage33   R-squared:                       0.012\n",
            "Model:                            OLS   Adj. R-squared:                  0.010\n",
            "Method:                 Least Squares   F-statistic:                     8.594\n",
            "Date:                Sat, 05 Oct 2019   Prob (F-statistic):           1.14e-05\n",
            "Time:                        23:01:02   Log-Likelihood:                -8738.4\n",
            "No. Observations:                2190   AIC:                         1.748e+04\n",
            "Df Residuals:                    2186   BIC:                         1.751e+04\n",
            "Df Model:                           3                                         \n",
            "Covariance Type:            nonrobust                                         \n",
            "==============================================================================\n",
            "                 coef    std err          t      P>|t|      [0.025      0.975]\n",
            "------------------------------------------------------------------------------\n",
            "const        -16.1086      6.306     -2.554      0.011     -28.475      -3.742\n",
            "height16       0.2828      0.093      3.042      0.002       0.100       0.465\n",
            "momed          0.4907      0.218      2.251      0.024       0.063       0.918\n",
            "daded          0.1601      0.168      0.951      0.342      -0.170       0.490\n",
            "==============================================================================\n",
            "Omnibus:                     2854.003   Durbin-Watson:                   1.972\n",
            "Prob(Omnibus):                  0.000   Jarque-Bera (JB):           378558.648\n",
            "Skew:                           7.322   Prob(JB):                         0.00\n",
            "Kurtosis:                      65.723   Cond. No.                     1.55e+03\n",
            "==============================================================================\n",
            "\n",
            "Warnings:\n",
            "[1] Standard Errors assume that the covariance matrix of the errors is correctly specified.\n",
            "[2] The condition number is large, 1.55e+03. This might indicate that there are\n",
            "strong multicollinearity or other numerical problems.\n"
          ],
          "name": "stdout"
        }
      ]
    },
    {
      "cell_type": "markdown",
      "metadata": {
        "id": "ZlHR-BxZs7y8",
        "colab_type": "text"
      },
      "source": [
        "(e)\tPerhaps kids had their food stolen by greedy siblings. Add the number of siblings to the model and discuss results."
      ]
    },
    {
      "cell_type": "markdown",
      "metadata": {
        "id": "w-QNgLHEtBdc",
        "colab_type": "text"
      },
      "source": [
        "The sibling variable does indeed indicate that wages are lower for British men with more siblings. The effect is statistically significant (p = 0.024). This is consistent with the idea that parents are less able to invest time and money into children the more children they have. There are also other possibilities (perhaps subcultures that have more children also are less well off), so we should consider it suggestive rather than definitive. The coefficient on height continues to be statistically significant, but the coefficient on mother’s education is no longer significant. This suggests that one reason that mother’s education was predictive of higher wages was that women with more education tended to have fewer children."
      ]
    },
    {
      "cell_type": "code",
      "metadata": {
        "id": "2byIljI5s82T",
        "colab_type": "code",
        "colab": {
          "base_uri": "https://localhost:8080/",
          "height": 542
        },
        "outputId": "68712725-698e-4df6-ecc1-6c76f6a9d56e"
      },
      "source": [
        "result7 = sm.OLS(df['gwage33'], df[['const', 'height16', 'momed', 'daded','siblings']],\n",
        "                    missing='drop').fit()\n",
        "print(result7.summary())"
      ],
      "execution_count": 12,
      "outputs": [
        {
          "output_type": "stream",
          "text": [
            "                            OLS Regression Results                            \n",
            "==============================================================================\n",
            "Dep. Variable:                gwage33   R-squared:                       0.012\n",
            "Model:                            OLS   Adj. R-squared:                  0.010\n",
            "Method:                 Least Squares   F-statistic:                     6.088\n",
            "Date:                Sat, 05 Oct 2019   Prob (F-statistic):           7.23e-05\n",
            "Time:                        23:01:02   Log-Likelihood:                -7859.8\n",
            "No. Observations:                1970   AIC:                         1.573e+04\n",
            "Df Residuals:                    1965   BIC:                         1.576e+04\n",
            "Df Model:                           4                                         \n",
            "Covariance Type:            nonrobust                                         \n",
            "==============================================================================\n",
            "                 coef    std err          t      P>|t|      [0.025      0.975]\n",
            "------------------------------------------------------------------------------\n",
            "const        -11.5214      6.924     -1.664      0.096     -25.100       2.057\n",
            "height16       0.2638      0.099      2.656      0.008       0.069       0.459\n",
            "momed          0.2892      0.233      1.241      0.215      -0.168       0.746\n",
            "daded          0.2176      0.180      1.207      0.228      -0.136       0.571\n",
            "siblings      -0.4410      0.195     -2.262      0.024      -0.823      -0.059\n",
            "==============================================================================\n",
            "Omnibus:                     2593.103   Durbin-Watson:                   1.970\n",
            "Prob(Omnibus):                  0.000   Jarque-Bera (JB):           356685.725\n",
            "Skew:                           7.414   Prob(JB):                         0.00\n",
            "Kurtosis:                      67.230   Cond. No.                     1.62e+03\n",
            "==============================================================================\n",
            "\n",
            "Warnings:\n",
            "[1] Standard Errors assume that the covariance matrix of the errors is correctly specified.\n",
            "[2] The condition number is large, 1.62e+03. This might indicate that there are\n",
            "strong multicollinearity or other numerical problems.\n"
          ],
          "name": "stdout"
        }
      ]
    }
  ]
}