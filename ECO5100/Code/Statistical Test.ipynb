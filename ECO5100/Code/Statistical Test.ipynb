{
 "cells": [
  {
   "cell_type": "code",
   "execution_count": 1,
   "metadata": {},
   "outputs": [],
   "source": [
    "import numpy as np"
   ]
  },
  {
   "cell_type": "code",
   "execution_count": 11,
   "metadata": {},
   "outputs": [],
   "source": [
    "np.random.seed(77)\n",
    "pHat = np.random.binomial(62, 0.1, size=10000)/62"
   ]
  },
  {
   "cell_type": "code",
   "execution_count": 12,
   "metadata": {},
   "outputs": [
    {
     "data": {
      "text/plain": [
       "0.0449"
      ]
     },
     "execution_count": 12,
     "metadata": {},
     "output_type": "execute_result"
    }
   ],
   "source": [
    "sum(pHat < 0.048)/10000"
   ]
  },
  {
   "cell_type": "code",
   "execution_count": 13,
   "metadata": {},
   "outputs": [
    {
     "data": {
      "text/plain": [
       "(array([1.140e+02, 3.350e+02, 7.230e+02, 1.294e+03, 1.624e+03, 1.734e+03,\n",
       "        1.489e+03, 1.099e+03, 7.510e+02, 4.200e+02, 2.410e+02, 1.050e+02,\n",
       "        4.600e+01, 1.400e+01, 8.000e+00, 2.000e+00, 0.000e+00, 1.000e+00]),\n",
       " array([0.        , 0.01702509, 0.03405018, 0.05107527, 0.06810036,\n",
       "        0.08512545, 0.10215054, 0.11917563, 0.13620072, 0.15322581,\n",
       "        0.1702509 , 0.18727599, 0.20430108, 0.22132616, 0.23835125,\n",
       "        0.25537634, 0.27240143, 0.28942652, 0.30645161]),\n",
       " <a list of 18 Patch objects>)"
      ]
     },
     "execution_count": 13,
     "metadata": {},
     "output_type": "execute_result"
    },
    {
     "data": {
      "image/png": "[encoded data removed]",
      "text/plain": [
       "<matplotlib.figure.Figure at 0x7f5ad338da58>"
      ]
     },
     "metadata": {},
     "output_type": "display_data"
    }
   ],
   "source": [
    "%matplotlib inline\n",
    "import matplotlib.pyplot as plt\n",
    "plt.hist(pHat, bins=18)"
   ]
  },
  {
   "cell_type": "code",
   "execution_count": null,
   "metadata": {},
   "outputs": [],
   "source": []
  }
 ],
 "metadata": {
  "kernelspec": {
   "display_name": "Python 3",
   "language": "python",
   "name": "python3"
  },
  "language_info": {
   "codemirror_mode": {
    "name": "ipython",
    "version": 3
   },
   "file_extension": ".py",
   "mimetype": "text/x-python",
   "name": "python",
   "nbconvert_exporter": "python",
   "pygments_lexer": "ipython3",
   "version": "3.6.6"
  }
 },
 "nbformat": 4,
 "nbformat_minor": 2
}
