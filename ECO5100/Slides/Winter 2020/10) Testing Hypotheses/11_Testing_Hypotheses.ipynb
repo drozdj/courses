{
  "nbformat": 4,
  "nbformat_minor": 0,
  "metadata": {
    "colab": {
      "name": "11_Testing_Hypotheses.ipynb",
      "provenance": []
    },
    "kernelspec": {
      "name": "python3",
      "display_name": "Python 3"
    }
  },
  "cells": [
    {
      "cell_type": "code",
      "metadata": {
        "id": "WnctnhnJ_-0b",
        "colab_type": "code",
        "colab": {
          "base_uri": "https://localhost:8080/",
          "height": 34
        },
        "outputId": "ae917ab5-8c28-4ede-8b7d-f486cd124b94"
      },
      "source": [
        "from datascience import *\n",
        "eligible_population = [0.26, 0.74]\n",
        "sample_proportions(100, eligible_population)"
      ],
      "execution_count": 1,
      "outputs": [
        {
          "output_type": "execute_result",
          "data": {
            "text/plain": [
              "array([0.25, 0.75])"
            ]
          },
          "metadata": {
            "tags": []
          },
          "execution_count": 1
        }
      ]
    },
    {
      "cell_type": "code",
      "metadata": {
        "id": "q35Rma4EAfTx",
        "colab_type": "code",
        "colab": {
          "base_uri": "https://localhost:8080/",
          "height": 34
        },
        "outputId": "eece2346-d7fc-44fa-94f3-ddc6bd1c8025"
      },
      "source": [
        "(100 * sample_proportions(100, eligible_population)).item(0)"
      ],
      "execution_count": 2,
      "outputs": [
        {
          "output_type": "execute_result",
          "data": {
            "text/plain": [
              "24.0"
            ]
          },
          "metadata": {
            "tags": []
          },
          "execution_count": 2
        }
      ]
    },
    {
      "cell_type": "code",
      "metadata": {
        "id": "SFca-hU7AfW0",
        "colab_type": "code",
        "colab": {}
      },
      "source": [
        "def one_simulated_count():\n",
        "    return (100 * sample_proportions(100,\n",
        "            eligible_population)).item(0)"
      ],
      "execution_count": 0,
      "outputs": []
    },
    {
      "cell_type": "code",
      "metadata": {
        "id": "5RZlFIfkAfZs",
        "colab_type": "code",
        "colab": {}
      },
      "source": [
        "counts = make_array()\n",
        "import numpy as np\n",
        "repetitions = 10000\n",
        "for i in np.arange(repetitions):\n",
        "    counts = np.append(counts, one_simulated_count())"
      ],
      "execution_count": 0,
      "outputs": []
    },
    {
      "cell_type": "code",
      "metadata": {
        "id": "_TIJibbcAfcc",
        "colab_type": "code",
        "colab": {
          "base_uri": "https://localhost:8080/",
          "height": 301
        },
        "outputId": "d862edf6-4e56-4f7c-dcdd-a21b13af566a"
      },
      "source": [
        "%matplotlib inline\n",
        "import matplotlib.pyplot as plots\n",
        "plots.style.use('fivethirtyeight')\n",
        "Table().with_column(\n",
        "    'Count in a Random Sample', counts\n",
        ").hist(bins = np.arange(5.5, 46.6, 1))"
      ],
      "execution_count": 5,
      "outputs": [
        {
          "output_type": "display_data",
          "data": {
            "image/png": "[encoded data removed]",
            "text/plain": [
              "<Figure size 432x288 with 1 Axes>"
            ]
          },
          "metadata": {
            "tags": []
          }
        }
      ]
    },
    {
      "cell_type": "code",
      "metadata": {
        "id": "DFyMeSoBAffU",
        "colab_type": "code",
        "colab": {
          "base_uri": "https://localhost:8080/",
          "height": 301
        },
        "outputId": "83b1534f-50d8-4f43-ea89-e1bad341d33d"
      },
      "source": [
        "Table().with_column(\n",
        "    'Count in a Random Sample', counts\n",
        ").hist(bins = np.arange(5.5, 46.6, 1))\n",
        "plots.scatter(8, 0, color='red', s=30);"
      ],
      "execution_count": 6,
      "outputs": [
        {
          "output_type": "display_data",
          "data": {
            "image/png": "[encoded data removed]",
            "text/plain": [
              "<Figure size 432x288 with 1 Axes>"
            ]
          },
          "metadata": {
            "tags": []
          }
        }
      ]
    },
    {
      "cell_type": "code",
      "metadata": {
        "id": "CWRLloGfAfiW",
        "colab_type": "code",
        "colab": {}
      },
      "source": [
        "def distance_from_75(p):\n",
        "    return abs(100*p - 75)"
      ],
      "execution_count": 0,
      "outputs": []
    },
    {
      "cell_type": "code",
      "metadata": {
        "id": "GAHKms7rAfnn",
        "colab_type": "code",
        "colab": {}
      },
      "source": [
        "model_proportions = [0.75, 0.25]\n",
        "def one_simulated_distance():\n",
        "    proportion_purple_in_sample = sample_proportions(929,\n",
        "                              model_proportions).item(0)\n",
        "    return distance_from_75(proportion_purple_in_sample)"
      ],
      "execution_count": 0,
      "outputs": []
    },
    {
      "cell_type": "code",
      "metadata": {
        "id": "4a-bh3s3Lqnd",
        "colab_type": "code",
        "colab": {}
      },
      "source": [
        "distances = make_array()\n",
        "repetitions = 10000\n",
        "for i in np.arange(repetitions):\n",
        "    distances = np.append(distances, one_simulated_distance())"
      ],
      "execution_count": 0,
      "outputs": []
    },
    {
      "cell_type": "code",
      "metadata": {
        "id": "zihSIFVoLqqH",
        "colab_type": "code",
        "colab": {
          "base_uri": "https://localhost:8080/",
          "height": 34
        },
        "outputId": "ed5b8180-45da-4433-f081-f94f76f4ac8c"
      },
      "source": [
        "705 / 929"
      ],
      "execution_count": 10,
      "outputs": [
        {
          "output_type": "execute_result",
          "data": {
            "text/plain": [
              "0.7588805166846071"
            ]
          },
          "metadata": {
            "tags": []
          },
          "execution_count": 10
        }
      ]
    },
    {
      "cell_type": "code",
      "metadata": {
        "id": "JhDGh97XLqtD",
        "colab_type": "code",
        "colab": {
          "base_uri": "https://localhost:8080/",
          "height": 34
        },
        "outputId": "92aced0f-5c11-4778-8012-2806fe249cf4"
      },
      "source": [
        "observed_statistic = distance_from_75(705/929)\n",
        "observed_statistic"
      ],
      "execution_count": 11,
      "outputs": [
        {
          "output_type": "execute_result",
          "data": {
            "text/plain": [
              "0.8880516684607045"
            ]
          },
          "metadata": {
            "tags": []
          },
          "execution_count": 11
        }
      ]
    },
    {
      "cell_type": "code",
      "metadata": {
        "id": "LZC5MkQ-Lqv0",
        "colab_type": "code",
        "colab": {
          "base_uri": "https://localhost:8080/",
          "height": 301
        },
        "outputId": "269210aa-9ec0-4484-b45a-099300202495"
      },
      "source": [
        "Table().with_column(\n",
        "    'Distance between Sample % and 75%', distances\n",
        ").hist()\n",
        "plots.scatter(observed_statistic, 0, color='red', s=30);"
      ],
      "execution_count": 12,
      "outputs": [
        {
          "output_type": "display_data",
          "data": {
            "image/png": "[encoded data removed]",
            "text/plain": [
              "<Figure size 432x288 with 1 Axes>"
            ]
          },
          "metadata": {
            "tags": []
          }
        }
      ]
    },
    {
      "cell_type": "code",
      "metadata": {
        "id": "kpEa5yfILqyc",
        "colab_type": "code",
        "colab": {}
      },
      "source": [
        "def proportions_from_distribution(table, label, sample_size):\n",
        "    proportions = np.random.multinomial(sample_size,\n",
        "                            table.column(label))/sample_size\n",
        "    return table.with_column('Random Sample', proportions)"
      ],
      "execution_count": 0,
      "outputs": []
    },
    {
      "cell_type": "code",
      "metadata": {
        "id": "7OCn_3ApLq1b",
        "colab_type": "code",
        "colab": {
          "base_uri": "https://localhost:8080/",
          "height": 204
        },
        "outputId": "545bb755-cd9c-40b5-c4ad-9ad536c652bb"
      },
      "source": [
        "jury = Table().with_columns(\n",
        "    'Ethnicity', make_array('Asian', 'Black', \n",
        "                            'Latino', 'White', 'Other'),\n",
        "    'Eligible', make_array(0.15, 0.18, 0.12, 0.54, 0.01),\n",
        "    'Panels', make_array(0.26, 0.08, 0.08, 0.54, 0.04)\n",
        ")\n",
        "jury"
      ],
      "execution_count": 14,
      "outputs": [
        {
          "output_type": "execute_result",
          "data": {
            "text/html": [
              "<table border=\"1\" class=\"dataframe\">\n",
              "    <thead>\n",
              "        <tr>\n",
              "            <th>Ethnicity</th> <th>Eligible</th> <th>Panels</th>\n",
              "        </tr>\n",
              "    </thead>\n",
              "    <tbody>\n",
              "        <tr>\n",
              "            <td>Asian    </td> <td>0.15    </td> <td>0.26  </td>\n",
              "        </tr>\n",
              "        <tr>\n",
              "            <td>Black    </td> <td>0.18    </td> <td>0.08  </td>\n",
              "        </tr>\n",
              "        <tr>\n",
              "            <td>Latino   </td> <td>0.12    </td> <td>0.08  </td>\n",
              "        </tr>\n",
              "        <tr>\n",
              "            <td>White    </td> <td>0.54    </td> <td>0.54  </td>\n",
              "        </tr>\n",
              "        <tr>\n",
              "            <td>Other    </td> <td>0.01    </td> <td>0.04  </td>\n",
              "        </tr>\n",
              "    </tbody>\n",
              "</table>"
            ],
            "text/plain": [
              "Ethnicity | Eligible | Panels\n",
              "Asian     | 0.15     | 0.26\n",
              "Black     | 0.18     | 0.08\n",
              "Latino    | 0.12     | 0.08\n",
              "White     | 0.54     | 0.54\n",
              "Other     | 0.01     | 0.04"
            ]
          },
          "metadata": {
            "tags": []
          },
          "execution_count": 14
        }
      ]
    },
    {
      "cell_type": "code",
      "metadata": {
        "id": "WiYFV-g4Lq34",
        "colab_type": "code",
        "colab": {
          "base_uri": "https://localhost:8080/",
          "height": 282
        },
        "outputId": "dd3362f3-3171-4303-f835-e186f1f48549"
      },
      "source": [
        "jury.barh('Ethnicity')"
      ],
      "execution_count": 15,
      "outputs": [
        {
          "output_type": "display_data",
          "data": {
            "image/png": "[encoded data removed]",
            "text/plain": [
              "<Figure size 432x288 with 1 Axes>"
            ]
          },
          "metadata": {
            "tags": []
          }
        }
      ]
    },
    {
      "cell_type": "code",
      "metadata": {
        "id": "Oz95CTC3MOvd",
        "colab_type": "code",
        "colab": {
          "base_uri": "https://localhost:8080/",
          "height": 204
        },
        "outputId": "39cfab74-3a34-4dd2-c647-bef8be0876e3"
      },
      "source": [
        "eligible_population = jury.column('Eligible')\n",
        "sample_distribution = sample_proportions(1453, eligible_population)\n",
        "panels_and_sample = jury.with_column('Random Sample', sample_distribution)\n",
        "panels_and_sample"
      ],
      "execution_count": 16,
      "outputs": [
        {
          "output_type": "execute_result",
          "data": {
            "text/html": [
              "<table border=\"1\" class=\"dataframe\">\n",
              "    <thead>\n",
              "        <tr>\n",
              "            <th>Ethnicity</th> <th>Eligible</th> <th>Panels</th> <th>Random Sample</th>\n",
              "        </tr>\n",
              "    </thead>\n",
              "    <tbody>\n",
              "        <tr>\n",
              "            <td>Asian    </td> <td>0.15    </td> <td>0.26  </td> <td>0.163799     </td>\n",
              "        </tr>\n",
              "        <tr>\n",
              "            <td>Black    </td> <td>0.18    </td> <td>0.08  </td> <td>0.194769     </td>\n",
              "        </tr>\n",
              "        <tr>\n",
              "            <td>Latino   </td> <td>0.12    </td> <td>0.08  </td> <td>0.128011     </td>\n",
              "        </tr>\n",
              "        <tr>\n",
              "            <td>White    </td> <td>0.54    </td> <td>0.54  </td> <td>0.501721     </td>\n",
              "        </tr>\n",
              "        <tr>\n",
              "            <td>Other    </td> <td>0.01    </td> <td>0.04  </td> <td>0.0116999    </td>\n",
              "        </tr>\n",
              "    </tbody>\n",
              "</table>"
            ],
            "text/plain": [
              "Ethnicity | Eligible | Panels | Random Sample\n",
              "Asian     | 0.15     | 0.26   | 0.163799\n",
              "Black     | 0.18     | 0.08   | 0.194769\n",
              "Latino    | 0.12     | 0.08   | 0.128011\n",
              "White     | 0.54     | 0.54   | 0.501721\n",
              "Other     | 0.01     | 0.04   | 0.0116999"
            ]
          },
          "metadata": {
            "tags": []
          },
          "execution_count": 16
        }
      ]
    },
    {
      "cell_type": "code",
      "metadata": {
        "id": "QClLyzr9MOyV",
        "colab_type": "code",
        "colab": {
          "base_uri": "https://localhost:8080/",
          "height": 282
        },
        "outputId": "fca5921b-5cff-480a-b4b0-fa0fa7279a07"
      },
      "source": [
        "panels_and_sample.barh('Ethnicity')"
      ],
      "execution_count": 17,
      "outputs": [
        {
          "output_type": "display_data",
          "data": {
            "image/png": "[encoded data removed]",
            "text/plain": [
              "<Figure size 432x288 with 1 Axes>"
            ]
          },
          "metadata": {
            "tags": []
          }
        }
      ]
    },
    {
      "cell_type": "code",
      "metadata": {
        "id": "cfrXkEFjMO0-",
        "colab_type": "code",
        "colab": {
          "base_uri": "https://localhost:8080/",
          "height": 204
        },
        "outputId": "9c1f8858-ffc4-4c7a-f98a-73e00a2b0642"
      },
      "source": [
        "jury_with_diffs = jury.with_column(\n",
        "  'Difference', jury.column('Panels') - jury.column('Eligible')\n",
        ")\n",
        "jury_with_diffs"
      ],
      "execution_count": 18,
      "outputs": [
        {
          "output_type": "execute_result",
          "data": {
            "text/html": [
              "<table border=\"1\" class=\"dataframe\">\n",
              "    <thead>\n",
              "        <tr>\n",
              "            <th>Ethnicity</th> <th>Eligible</th> <th>Panels</th> <th>Difference</th>\n",
              "        </tr>\n",
              "    </thead>\n",
              "    <tbody>\n",
              "        <tr>\n",
              "            <td>Asian    </td> <td>0.15    </td> <td>0.26  </td> <td>0.11      </td>\n",
              "        </tr>\n",
              "        <tr>\n",
              "            <td>Black    </td> <td>0.18    </td> <td>0.08  </td> <td>-0.1      </td>\n",
              "        </tr>\n",
              "        <tr>\n",
              "            <td>Latino   </td> <td>0.12    </td> <td>0.08  </td> <td>-0.04     </td>\n",
              "        </tr>\n",
              "        <tr>\n",
              "            <td>White    </td> <td>0.54    </td> <td>0.54  </td> <td>0         </td>\n",
              "        </tr>\n",
              "        <tr>\n",
              "            <td>Other    </td> <td>0.01    </td> <td>0.04  </td> <td>0.03      </td>\n",
              "        </tr>\n",
              "    </tbody>\n",
              "</table>"
            ],
            "text/plain": [
              "Ethnicity | Eligible | Panels | Difference\n",
              "Asian     | 0.15     | 0.26   | 0.11\n",
              "Black     | 0.18     | 0.08   | -0.1\n",
              "Latino    | 0.12     | 0.08   | -0.04\n",
              "White     | 0.54     | 0.54   | 0\n",
              "Other     | 0.01     | 0.04   | 0.03"
            ]
          },
          "metadata": {
            "tags": []
          },
          "execution_count": 18
        }
      ]
    },
    {
      "cell_type": "code",
      "metadata": {
        "id": "1D70VYRZMO3t",
        "colab_type": "code",
        "colab": {
          "base_uri": "https://localhost:8080/",
          "height": 204
        },
        "outputId": "ad13be1d-8bab-4fe3-bcc7-6d787d65f61f"
      },
      "source": [
        "jury_with_diffs = jury_with_diffs.with_column('Absolute Difference',\n",
        "     np.abs(jury_with_diffs.column('Difference'))\n",
        ")\n",
        "jury_with_diffs"
      ],
      "execution_count": 19,
      "outputs": [
        {
          "output_type": "execute_result",
          "data": {
            "text/html": [
              "<table border=\"1\" class=\"dataframe\">\n",
              "    <thead>\n",
              "        <tr>\n",
              "            <th>Ethnicity</th> <th>Eligible</th> <th>Panels</th> <th>Difference</th> <th>Absolute Difference</th>\n",
              "        </tr>\n",
              "    </thead>\n",
              "    <tbody>\n",
              "        <tr>\n",
              "            <td>Asian    </td> <td>0.15    </td> <td>0.26  </td> <td>0.11      </td> <td>0.11               </td>\n",
              "        </tr>\n",
              "        <tr>\n",
              "            <td>Black    </td> <td>0.18    </td> <td>0.08  </td> <td>-0.1      </td> <td>0.1                </td>\n",
              "        </tr>\n",
              "        <tr>\n",
              "            <td>Latino   </td> <td>0.12    </td> <td>0.08  </td> <td>-0.04     </td> <td>0.04               </td>\n",
              "        </tr>\n",
              "        <tr>\n",
              "            <td>White    </td> <td>0.54    </td> <td>0.54  </td> <td>0         </td> <td>0                  </td>\n",
              "        </tr>\n",
              "        <tr>\n",
              "            <td>Other    </td> <td>0.01    </td> <td>0.04  </td> <td>0.03      </td> <td>0.03               </td>\n",
              "        </tr>\n",
              "    </tbody>\n",
              "</table>"
            ],
            "text/plain": [
              "Ethnicity | Eligible | Panels | Difference | Absolute Difference\n",
              "Asian     | 0.15     | 0.26   | 0.11       | 0.11\n",
              "Black     | 0.18     | 0.08   | -0.1       | 0.1\n",
              "Latino    | 0.12     | 0.08   | -0.04      | 0.04\n",
              "White     | 0.54     | 0.54   | 0          | 0\n",
              "Other     | 0.01     | 0.04   | 0.03       | 0.03"
            ]
          },
          "metadata": {
            "tags": []
          },
          "execution_count": 19
        }
      ]
    },
    {
      "cell_type": "code",
      "metadata": {
        "id": "eavGtn68MO6b",
        "colab_type": "code",
        "colab": {
          "base_uri": "https://localhost:8080/",
          "height": 34
        },
        "outputId": "381abcb8-73be-4eec-dba6-099b442b0fd2"
      },
      "source": [
        "jury_with_diffs.column('Absolute Difference').sum() / 2"
      ],
      "execution_count": 20,
      "outputs": [
        {
          "output_type": "execute_result",
          "data": {
            "text/plain": [
              "0.14"
            ]
          },
          "metadata": {
            "tags": []
          },
          "execution_count": 20
        }
      ]
    },
    {
      "cell_type": "code",
      "metadata": {
        "id": "HuUotPWaMO9B",
        "colab_type": "code",
        "colab": {}
      },
      "source": [
        "def total_variation_distance(distribution_1, distribution_2):\n",
        "    return sum(np.abs(distribution_1 - distribution_2)) / 2"
      ],
      "execution_count": 0,
      "outputs": []
    },
    {
      "cell_type": "code",
      "metadata": {
        "id": "cHWJcG1VMo0T",
        "colab_type": "code",
        "colab": {
          "base_uri": "https://localhost:8080/",
          "height": 34
        },
        "outputId": "13b9d99d-2d07-4ae8-f7a5-ff69174729ca"
      },
      "source": [
        "total_variation_distance(jury.column('Panels'), jury.column('Eligible'))"
      ],
      "execution_count": 22,
      "outputs": [
        {
          "output_type": "execute_result",
          "data": {
            "text/plain": [
              "0.14"
            ]
          },
          "metadata": {
            "tags": []
          },
          "execution_count": 22
        }
      ]
    },
    {
      "cell_type": "code",
      "metadata": {
        "id": "o_RAhnpAMo3Y",
        "colab_type": "code",
        "colab": {
          "base_uri": "https://localhost:8080/",
          "height": 34
        },
        "outputId": "b84be58e-a5d0-4428-9c5f-2fb04cb8bdd7"
      },
      "source": [
        "sample_distribution = sample_proportions(1453, eligible_population)\n",
        "total_variation_distance(sample_distribution, eligible_population)"
      ],
      "execution_count": 23,
      "outputs": [
        {
          "output_type": "execute_result",
          "data": {
            "text/plain": [
              "0.0364280798348245"
            ]
          },
          "metadata": {
            "tags": []
          },
          "execution_count": 23
        }
      ]
    },
    {
      "cell_type": "code",
      "metadata": {
        "id": "d3S1h9JyMo6A",
        "colab_type": "code",
        "colab": {}
      },
      "source": [
        "def one_simulated_tvd():\n",
        "    sample_distribution = sample_proportions(1453, eligible_population)\n",
        "    return total_variation_distance(sample_distribution, eligible_population)\n",
        "\n",
        "tvds = make_array()\n",
        "repetitions = 5000\n",
        "for i in np.arange(repetitions):\n",
        "    tvds = np.append(tvds, one_simulated_tvd())"
      ],
      "execution_count": 0,
      "outputs": []
    },
    {
      "cell_type": "code",
      "metadata": {
        "id": "9180yXXpMo8M",
        "colab_type": "code",
        "colab": {
          "base_uri": "https://localhost:8080/",
          "height": 449
        },
        "outputId": "317085aa-ec6c-4814-f57d-03c24ecdda87"
      },
      "source": [
        "Table().with_column('TVD', tvds).hist(bins=np.arange(0, 0.2, 0.005))"
      ],
      "execution_count": 25,
      "outputs": [
        {
          "output_type": "display_data",
          "data": {
            "image/png": "[encoded data removed]",
            "text/plain": [
              "<Figure size 432x288 with 1 Axes>"
            ]
          },
          "metadata": {
            "tags": []
          }
        }
      ]
    },
    {
      "cell_type": "code",
      "metadata": {
        "id": "oJNfMOxANSjc",
        "colab_type": "code",
        "colab": {
          "base_uri": "https://localhost:8080/",
          "height": 388
        },
        "outputId": "12a45c4d-79ec-4a6e-8b63-9aed7da8c0e6"
      },
      "source": [
        "path_data = 'https://github.com/data-8/textbook/raw/gh-pages/data/'\n",
        "scores = Table.read_table(path_data + 'scores_by_section.csv')\n",
        "scores"
      ],
      "execution_count": 26,
      "outputs": [
        {
          "output_type": "execute_result",
          "data": {
            "text/html": [
              "<table border=\"1\" class=\"dataframe\">\n",
              "    <thead>\n",
              "        <tr>\n",
              "            <th>Section</th> <th>Midterm</th>\n",
              "        </tr>\n",
              "    </thead>\n",
              "    <tbody>\n",
              "        <tr>\n",
              "            <td>1      </td> <td>22     </td>\n",
              "        </tr>\n",
              "        <tr>\n",
              "            <td>2      </td> <td>12     </td>\n",
              "        </tr>\n",
              "        <tr>\n",
              "            <td>2      </td> <td>23     </td>\n",
              "        </tr>\n",
              "        <tr>\n",
              "            <td>2      </td> <td>14     </td>\n",
              "        </tr>\n",
              "        <tr>\n",
              "            <td>1      </td> <td>20     </td>\n",
              "        </tr>\n",
              "        <tr>\n",
              "            <td>3      </td> <td>25     </td>\n",
              "        </tr>\n",
              "        <tr>\n",
              "            <td>4      </td> <td>19     </td>\n",
              "        </tr>\n",
              "        <tr>\n",
              "            <td>1      </td> <td>24     </td>\n",
              "        </tr>\n",
              "        <tr>\n",
              "            <td>5      </td> <td>8      </td>\n",
              "        </tr>\n",
              "        <tr>\n",
              "            <td>6      </td> <td>14     </td>\n",
              "        </tr>\n",
              "    </tbody>\n",
              "</table>\n",
              "<p>... (349 rows omitted)</p>"
            ],
            "text/plain": [
              "Section | Midterm\n",
              "1       | 22\n",
              "2       | 12\n",
              "2       | 23\n",
              "2       | 14\n",
              "1       | 20\n",
              "3       | 25\n",
              "4       | 19\n",
              "1       | 24\n",
              "5       | 8\n",
              "6       | 14\n",
              "... (349 rows omitted)"
            ]
          },
          "metadata": {
            "tags": []
          },
          "execution_count": 26
        }
      ]
    },
    {
      "cell_type": "code",
      "metadata": {
        "id": "sIXaC_2oNSmO",
        "colab_type": "code",
        "colab": {
          "base_uri": "https://localhost:8080/",
          "height": 421
        },
        "outputId": "5d58403d-3278-4306-f69b-1308be9c75f2"
      },
      "source": [
        "section_averages = scores.group('Section', np.average)\n",
        "section_averages.show()"
      ],
      "execution_count": 27,
      "outputs": [
        {
          "output_type": "display_data",
          "data": {
            "text/html": [
              "<table border=\"1\" class=\"dataframe\">\n",
              "    <thead>\n",
              "        <tr>\n",
              "            <th>Section</th> <th>Midterm average</th>\n",
              "        </tr>\n",
              "    </thead>\n",
              "    <tbody>\n",
              "        <tr>\n",
              "            <td>1      </td> <td>15.5938        </td>\n",
              "        </tr>\n",
              "        <tr>\n",
              "            <td>2      </td> <td>15.125         </td>\n",
              "        </tr>\n",
              "        <tr>\n",
              "            <td>3      </td> <td>13.6667        </td>\n",
              "        </tr>\n",
              "        <tr>\n",
              "            <td>4      </td> <td>14.7667        </td>\n",
              "        </tr>\n",
              "        <tr>\n",
              "            <td>5      </td> <td>17.4545        </td>\n",
              "        </tr>\n",
              "        <tr>\n",
              "            <td>6      </td> <td>15.0312        </td>\n",
              "        </tr>\n",
              "        <tr>\n",
              "            <td>7      </td> <td>16.625         </td>\n",
              "        </tr>\n",
              "        <tr>\n",
              "            <td>8      </td> <td>16.3103        </td>\n",
              "        </tr>\n",
              "        <tr>\n",
              "            <td>9      </td> <td>14.5667        </td>\n",
              "        </tr>\n",
              "        <tr>\n",
              "            <td>10     </td> <td>15.2353        </td>\n",
              "        </tr>\n",
              "        <tr>\n",
              "            <td>11     </td> <td>15.8077        </td>\n",
              "        </tr>\n",
              "        <tr>\n",
              "            <td>12     </td> <td>15.7333        </td>\n",
              "        </tr>\n",
              "    </tbody>\n",
              "</table>"
            ],
            "text/plain": [
              "<IPython.core.display.HTML object>"
            ]
          },
          "metadata": {
            "tags": []
          }
        }
      ]
    },
    {
      "cell_type": "code",
      "metadata": {
        "id": "5ZVv_3sHNSpG",
        "colab_type": "code",
        "colab": {
          "base_uri": "https://localhost:8080/",
          "height": 388
        },
        "outputId": "90bb0005-f197-4bea-fe9f-dd7464f87a0e"
      },
      "source": [
        "scores.group('Section')"
      ],
      "execution_count": 28,
      "outputs": [
        {
          "output_type": "execute_result",
          "data": {
            "text/html": [
              "<table border=\"1\" class=\"dataframe\">\n",
              "    <thead>\n",
              "        <tr>\n",
              "            <th>Section</th> <th>count</th>\n",
              "        </tr>\n",
              "    </thead>\n",
              "    <tbody>\n",
              "        <tr>\n",
              "            <td>1      </td> <td>32   </td>\n",
              "        </tr>\n",
              "        <tr>\n",
              "            <td>2      </td> <td>32   </td>\n",
              "        </tr>\n",
              "        <tr>\n",
              "            <td>3      </td> <td>27   </td>\n",
              "        </tr>\n",
              "        <tr>\n",
              "            <td>4      </td> <td>30   </td>\n",
              "        </tr>\n",
              "        <tr>\n",
              "            <td>5      </td> <td>33   </td>\n",
              "        </tr>\n",
              "        <tr>\n",
              "            <td>6      </td> <td>32   </td>\n",
              "        </tr>\n",
              "        <tr>\n",
              "            <td>7      </td> <td>24   </td>\n",
              "        </tr>\n",
              "        <tr>\n",
              "            <td>8      </td> <td>29   </td>\n",
              "        </tr>\n",
              "        <tr>\n",
              "            <td>9      </td> <td>30   </td>\n",
              "        </tr>\n",
              "        <tr>\n",
              "            <td>10     </td> <td>34   </td>\n",
              "        </tr>\n",
              "    </tbody>\n",
              "</table>\n",
              "<p>... (2 rows omitted)</p>"
            ],
            "text/plain": [
              "Section | count\n",
              "1       | 32\n",
              "2       | 32\n",
              "3       | 27\n",
              "4       | 30\n",
              "5       | 33\n",
              "6       | 32\n",
              "7       | 24\n",
              "8       | 29\n",
              "9       | 30\n",
              "10      | 34\n",
              "... (2 rows omitted)"
            ]
          },
          "metadata": {
            "tags": []
          },
          "execution_count": 28
        }
      ]
    },
    {
      "cell_type": "code",
      "metadata": {
        "id": "mSrqZUIDNSrs",
        "colab_type": "code",
        "colab": {}
      },
      "source": [
        "scores_only = scores.drop('Section')"
      ],
      "execution_count": 0,
      "outputs": []
    },
    {
      "cell_type": "code",
      "metadata": {
        "id": "7jf9hMaKNSub",
        "colab_type": "code",
        "colab": {
          "base_uri": "https://localhost:8080/",
          "height": 388
        },
        "outputId": "16ccd343-d93c-45c4-cbb2-0b3f5b27d0d1"
      },
      "source": [
        "random_sample = scores_only.sample(27, with_replacement=False)\n",
        "random_sample"
      ],
      "execution_count": 30,
      "outputs": [
        {
          "output_type": "execute_result",
          "data": {
            "text/html": [
              "<table border=\"1\" class=\"dataframe\">\n",
              "    <thead>\n",
              "        <tr>\n",
              "            <th>Midterm</th>\n",
              "        </tr>\n",
              "    </thead>\n",
              "    <tbody>\n",
              "        <tr>\n",
              "            <td>21     </td>\n",
              "        </tr>\n",
              "        <tr>\n",
              "            <td>14     </td>\n",
              "        </tr>\n",
              "        <tr>\n",
              "            <td>23     </td>\n",
              "        </tr>\n",
              "        <tr>\n",
              "            <td>13     </td>\n",
              "        </tr>\n",
              "        <tr>\n",
              "            <td>13     </td>\n",
              "        </tr>\n",
              "        <tr>\n",
              "            <td>19     </td>\n",
              "        </tr>\n",
              "        <tr>\n",
              "            <td>24     </td>\n",
              "        </tr>\n",
              "        <tr>\n",
              "            <td>10     </td>\n",
              "        </tr>\n",
              "        <tr>\n",
              "            <td>11     </td>\n",
              "        </tr>\n",
              "        <tr>\n",
              "            <td>13     </td>\n",
              "        </tr>\n",
              "    </tbody>\n",
              "</table>\n",
              "<p>... (17 rows omitted)</p>"
            ],
            "text/plain": [
              "Midterm\n",
              "21\n",
              "14\n",
              "23\n",
              "13\n",
              "13\n",
              "19\n",
              "24\n",
              "10\n",
              "11\n",
              "13\n",
              "... (17 rows omitted)"
            ]
          },
          "metadata": {
            "tags": []
          },
          "execution_count": 30
        }
      ]
    },
    {
      "cell_type": "code",
      "metadata": {
        "id": "RY6C4QnnNSxF",
        "colab_type": "code",
        "colab": {
          "base_uri": "https://localhost:8080/",
          "height": 34
        },
        "outputId": "14693c85-5337-42a1-bc55-f4b82f261e45"
      },
      "source": [
        "np.average(random_sample.column('Midterm'))"
      ],
      "execution_count": 31,
      "outputs": [
        {
          "output_type": "execute_result",
          "data": {
            "text/plain": [
              "16.555555555555557"
            ]
          },
          "metadata": {
            "tags": []
          },
          "execution_count": 31
        }
      ]
    },
    {
      "cell_type": "code",
      "metadata": {
        "id": "LDguIZ8eNSz6",
        "colab_type": "code",
        "colab": {}
      },
      "source": [
        "def random_sample_average():\n",
        "    random_sample = scores_only.sample(27, with_replacement=False)\n",
        "    return np.average(random_sample.column('Midterm'))\n",
        "\n",
        "sample_averages = make_array()\n",
        "repetitions = 10000\n",
        "for i in np.arange(repetitions):\n",
        "    sample_averages = np.append(sample_averages,\n",
        "                    random_sample_average())\n"
      ],
      "execution_count": 0,
      "outputs": []
    },
    {
      "cell_type": "code",
      "metadata": {
        "id": "YCYmqT-bNukw",
        "colab_type": "code",
        "colab": {
          "base_uri": "https://localhost:8080/",
          "height": 305
        },
        "outputId": "316e4ce7-7f08-4889-e766-1bdcd1724d8a"
      },
      "source": [
        "averages_tbl = Table().with_column('Sample Average', sample_averages)\n",
        "averages_tbl.hist(bins=20)\n",
        "observed_statistic = 13.667\n",
        "plots.scatter(observed_statistic, 0, color='red', s=30);"
      ],
      "execution_count": 33,
      "outputs": [
        {
          "output_type": "display_data",
          "data": {
            "image/png": "[encoded data removed]",
            "text/plain": [
              "<Figure size 432x288 with 1 Axes>"
            ]
          },
          "metadata": {
            "tags": []
          }
        }
      ]
    },
    {
      "cell_type": "code",
      "metadata": {
        "id": "FLkQGuXrNunf",
        "colab_type": "code",
        "colab": {
          "base_uri": "https://localhost:8080/",
          "height": 34
        },
        "outputId": "4c372a15-6d03-4ad0-9664-2da692d45e11"
      },
      "source": [
        "np.count_nonzero(sample_averages <= observed_statistic) / repetitions"
      ],
      "execution_count": 34,
      "outputs": [
        {
          "output_type": "execute_result",
          "data": {
            "text/plain": [
              "0.0553"
            ]
          },
          "metadata": {
            "tags": []
          },
          "execution_count": 34
        }
      ]
    },
    {
      "cell_type": "code",
      "metadata": {
        "id": "Ago9Wt1tN6oQ",
        "colab_type": "code",
        "colab": {}
      },
      "source": [
        "fair_coin = [1, 0]\n",
        "def one_simulated_statistic():\n",
        "    number_of_heads = sum(np.random.choice(fair_coin, 2000))\n",
        "    return abs(number_of_heads - 1000)\n",
        "\n",
        "statistics = make_array()\n",
        "for i in np.arange(50000):\n",
        "    statistics = np.append(statistics, one_simulated_statistic())"
      ],
      "execution_count": 0,
      "outputs": []
    },
    {
      "cell_type": "code",
      "metadata": {
        "id": "YNpSZXyHOCXm",
        "colab_type": "code",
        "colab": {
          "base_uri": "https://localhost:8080/",
          "height": 302
        },
        "outputId": "073f1aa4-69ed-4535-a40a-c490a5a9f5b9"
      },
      "source": [
        "results = Table().with_column('|Number of Heads - 1000|', statistics)\n",
        "results.hist(bins = np.arange(0, 101, 5))\n",
        "plots.plot([45, 45], [0, 0.035], color='gold', lw=2);"
      ],
      "execution_count": 36,
      "outputs": [
        {
          "output_type": "display_data",
          "data": {
            "image/png": "[encoded data removed]",
            "text/plain": [
              "<Figure size 432x288 with 1 Axes>"
            ]
          },
          "metadata": {
            "tags": []
          }
        }
      ]
    }
  ]
}