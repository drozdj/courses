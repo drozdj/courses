{
 "cells": [
  {
   "cell_type": "markdown",
   "metadata": {},
   "source": [
    "# Vectors 1.1"
   ]
  },
  {
   "cell_type": "code",
   "execution_count": null,
   "metadata": {},
   "outputs": [],
   "source": [
    "import numpy as np"
   ]
  },
  {
   "cell_type": "code",
   "execution_count": null,
   "metadata": {},
   "outputs": [],
   "source": [
    "vec0 = np.zeros((1,2))\n",
    "vec1 = np.array((0,0))"
   ]
  },
  {
   "cell_type": "code",
   "execution_count": null,
   "metadata": {},
   "outputs": [],
   "source": [
    "# display(np.shape(vec0),np.shape(vec1)) # (1,2), (2,)\n",
    "\n",
    "# even though they are equal \n",
    "# display(vec0 == vec1)\n",
    "\n",
    "# why does this happen?\n",
    "#   np uses dimensionality reduction, meaning, if you have a np.array([[1,1]]) is will be viewed equal to np.array([1,1]). the reasoning behind this is that it is of 1d, and if it is expanded it is still 1d.\n",
    "# display(np.array([[1,1]] == np.array([1,1]))) \n",
    "\n",
    "# this would however not be the case if it were 2d\n",
    "vec0 = np.array(([1,2],[3,4]))\n",
    "vec1 = np.array(([[1,2]],[[3,4]]))\n",
    "vec1 = np.squeeze(vec1)\n",
    "\n",
    "display((vec0 == vec1))\n",
    "display(vec0, vec1)\n",
    "display(np.shape(vec0), np.shape(vec1))\n",
    "\n",
    "# display(np.squeeze(np.shape(vec0)))\n",
    "# why is it that we have different notation?\n",
    "#   \n",
    "# np.array([[0., 0.]]) == np.array([0, 0])"
   ]
  },
  {
   "cell_type": "code",
   "execution_count": null,
   "metadata": {},
   "outputs": [],
   "source": [
    "v0 = np.array([1,2,3])\n",
    "v1 = np.array([4,5,6])\n",
    "v2 = np.concatenate((v0,v1))\n",
    "display(v2)\n",
    "\n",
    "# great! we have established that it is still an array after concatenating. \n",
    "\n",
    "# now what if we change it into a matrix?\n",
    "vec1 = np.array([[1, 2], [3, 4], [5, 6], [7, 8]])\n",
    "vec1.shape\n",
    "vec2 = np.array([])\n",
    "# vec1 @ vec1\n",
    "\n",
    "# vec1 @ vec1 @ vec1 @ vec1 @ vec1 @ vec1 @ vec1 @ vec1 @ vec1\n"
   ]
  },
  {
   "cell_type": "markdown",
   "metadata": {},
   "source": [
    "## Block or stacked vectors."
   ]
  },
  {
   "cell_type": "code",
   "execution_count": null,
   "metadata": {},
   "outputs": [],
   "source": [
    "# lets do a quick demonstration that the definition for \"Block or stacked vectors.\" is True\n",
    "# we know that if we want to define b to be an m-vector, what we are referring to is dimentions meaning that if m=2, then np.shape (_, _). or if m=4, then (_, _, _, _). \n",
    " \n",
    "\n",
    "b = np.array(([0,1,2], [3,4,5])) # m= 2-vector \n",
    "c = np.array(([[0,0,0]], [[0,0,0]], [[1,1,1]])) # n= 3-vector\n",
    "d = np.array(([[[[1,3,3],[1,2,3]]]], [[[[1,5,1],[1,3,4]]]], [[[[2,2,2],[1,4,2]]]])) # p= 5-vector\n",
    "\n",
    "# d.shape\n",
    "a = np.array((0,1))\n",
    "a = np.pad(b, (0, d.shape[0] - a.shape[0]))\n",
    "\n",
    "stacked = np.vstack((d, a))\n",
    "# a = np.array([b,c,d]) # (m + n + p)  10-vector\n",
    "# a.shape\n",
    "# d.shape\n",
    "\n",
    "# if i run this experiment & it fails, then i know what likely has gone wrong. it is that the value of np.shape(this,_) also matters.\n",
    "\n",
    "\n"
   ]
  },
  {
   "cell_type": "markdown",
   "metadata": {},
   "source": [
    "## Subvectors"
   ]
  }
 ],
 "metadata": {
  "kernelspec": {
   "display_name": "arena-env",
   "language": "python",
   "name": "python3"
  },
  "language_info": {
   "codemirror_mode": {
    "name": "ipython",
    "version": 3
   },
   "file_extension": ".py",
   "mimetype": "text/x-python",
   "name": "python",
   "nbconvert_exporter": "python",
   "pygments_lexer": "ipython3",
   "version": "3.11.9"
  }
 },
 "nbformat": 4,
 "nbformat_minor": 2
}
