{
 "cells": [
  {
   "cell_type": "markdown",
   "metadata": {},
   "source": [
    "1. [Quadratic Formula Translations (Left, Right, Up, Down)](https://www.desmos.com/calculator/ckxyu5ign1)\n"
   ]
  },
  {
   "cell_type": "markdown",
   "metadata": {},
   "source": [
    "2. [Quadratic Formula Translations (Stretch, Shrink)](https://www.desmos.com/calculator/wbsspdsjsz)\n"
   ]
  },
  {
   "cell_type": "code",
   "execution_count": 13,
   "metadata": {},
   "outputs": [
    {
     "name": "stdout",
     "output_type": "stream",
     "text": [
      "f = [(-10, 100), (-9, 81), (-8, 64), (-7, 49), (-6, 36), (-5, 25), (-4, 16), (-3, 9), (-2, 4), (-1, 1), (0, 0), (1, 1), (2, 4), (3, 9), (4, 16), (5, 25), (6, 36), (7, 49), (8, 64), (9, 81)]\n",
      "\n",
      "\n",
      "g = [(-10, 400), (-9, 324), (-8, 256), (-7, 196), (-6, 144), (-5, 100), (-4, 64), (-3, 36), (-2, 16), (-1, 4), (0, 0), (1, 4), (2, 16), (3, 36), (4, 64), (5, 100), (6, 144), (7, 196), (8, 256), (9, 324)]\n"
     ]
    }
   ],
   "source": [
    "\"\"\" https://www.desmos.com/calculator/ln1bw0klxd \n",
    "show that when stretching by factor (c > 1),\n",
    "that the new function has the same value at x0 that f(x) has at (x0/c),\n",
    "so that it is given by the rule (x0 -> f(x0/c)),\n",
    "which means that it is the function f(x/c).\n",
    "\n",
    "\"\"\"\n",
    "c = 2\n",
    "\n",
    "f = [(coords,(coords)**2) for coords in range(-10,10)] # f(x) = x**2\n",
    "g = [(coords,(coords*c)**2) for coords in range(-10,10)] # g(x) = xc**2 \n",
    "\n",
    "print(f'f = {f}')\n",
    "print(f'\\n')\n",
    "print(f'g = {g}')"
   ]
  },
  {
   "cell_type": "code",
   "execution_count": 19,
   "metadata": {},
   "outputs": [
    {
     "name": "stdout",
     "output_type": "stream",
     "text": [
      "f(x) = x**2 // [(-10, 100), (-9, 81), (-8, 64), (-7, 49), (-6, 36), (-5, 25), (-4, 16), (-3, 9), (-2, 4), (-1, 1), (0, 0), (1, 1), (2, 4), (3, 9), (4, 16), (5, 25), (6, 36), (7, 49), (8, 64), (9, 81)]\n",
      "\n",
      "\n",
      "g(x) = xc**2 // [(-10, 400), (-9, 324), (-8, 256), (-7, 196), (-6, 144), (-5, 100), (-4, 64), (-3, 36), (-2, 16), (-1, 4), (0, 0), (1, 4), (2, 16), (3, 36), (4, 64), (5, 100), (6, 144), (7, 196), (8, 256), (9, 324)]\n"
     ]
    }
   ],
   "source": [
    "\"\"\" https://www.desmos.com/calculator/s3sdsmbbhu\n",
    "if the y-axis is stretched by the factor (c > 1),\n",
    "each y-value is multiplied by c,\n",
    "so the new graph is that of the function cf(x)\n",
    "\n",
    "\"\"\"\n",
    "\n",
    "c = 2\n",
    "\n",
    "f = [(x, (x)**2) for x in range(-10,10)] # f(x) = x**2 \n",
    "g = [(x,(x*c)**2) for x in range(-10,10)] # g(x) = (xc)**2\n",
    "\n",
    "print(f'f(x) = x**2 // {f}')\n",
    "print('\\n')\n",
    "print(f'g(x) = (xc)**2 // {g}')"
   ]
  },
  {
   "cell_type": "code",
   "execution_count": null,
   "metadata": {},
   "outputs": [],
   "source": []
  }
 ],
 "metadata": {
  "kernelspec": {
   "display_name": "Python 3.10.5 64-bit",
   "language": "python",
   "name": "python3"
  },
  "language_info": {
   "codemirror_mode": {
    "name": "ipython",
    "version": 3
   },
   "file_extension": ".py",
   "mimetype": "text/x-python",
   "name": "python",
   "nbconvert_exporter": "python",
   "pygments_lexer": "ipython3",
   "version": "3.10.5"
  },
  "orig_nbformat": 4,
  "vscode": {
   "interpreter": {
    "hash": "6eb5088ecd5614fb5e51df2687db6b35c73d032ac815a1920f76df2e555df4d5"
   }
  }
 },
 "nbformat": 4,
 "nbformat_minor": 2
}
