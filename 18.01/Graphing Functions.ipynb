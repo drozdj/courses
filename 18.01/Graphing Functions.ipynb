{
 "cells": [
  {
   "cell_type": "markdown",
   "metadata": {},
   "source": [
    "1. [Quadratic Formula Translations (Left, Right, Up, Down)](https://www.desmos.com/calculator/ckxyu5ign1)\n"
   ]
  },
  {
   "cell_type": "markdown",
   "metadata": {},
   "source": [
    "2. [Quadratic Formula Translations (Stretch, Shrink)](https://www.desmos.com/calculator/wbsspdsjsz)\n"
   ]
  },
  {
   "cell_type": "code",
   "execution_count": 2,
   "metadata": {},
   "outputs": [],
   "source": [
    "import numpy as np\n",
    "import matplotlib.pyplot as plt"
   ]
  },
  {
   "cell_type": "code",
   "execution_count": null,
   "metadata": {},
   "outputs": [],
   "source": [
    "\"\"\" https://www.desmos.com/calculator/ln1bw0klxd \n",
    "show that when stretching by factor (c > 1),\n",
    "that the new function has the same value at x0 that f(x) has at (x0/c),\n",
    "so that it is given by the rule (x0 -> f(x0/c)),\n",
    "which means that it is the function f(x/c).\n",
    "\n",
    "\"\"\"\n",
    "c = 2\n",
    "\n",
    "f = [(coords,(coords)**2) for coords in range(-10,10)] # f(x) = x**2\n",
    "g = [(coords,(coords*c)**2) for coords in range(-10,10)] # g(x) = xc**2 \n",
    "\n",
    "print(f'f = {f}')\n",
    "print(f'\\n')\n",
    "print(f'g = {g}')"
   ]
  },
  {
   "cell_type": "code",
   "execution_count": null,
   "metadata": {},
   "outputs": [],
   "source": [
    "\"\"\" https://www.desmos.com/calculator/s3sdsmbbhu\n",
    "if the y-axis is stretched by the factor (c > 1),\n",
    "each y-value is multiplied by c,\n",
    "so the new graph is that of the function cf(x)\n",
    "\n",
    "\"\"\"\n",
    "\n",
    "c = 2\n",
    "\n",
    "f = [(x, (x)**2) for x in range(-10,10)] # f(x) = x**2 \n",
    "g = [(x,(x*c)**2) for x in range(-10,10)] # g(x) = (xc)**2\n",
    "\n",
    "print(f'f(x) = x**2 // {f}')\n",
    "print('\\n')\n",
    "print(f'g(x) = (xc)**2 // {g}')"
   ]
  },
  {
   "cell_type": "code",
   "execution_count": 87,
   "metadata": {},
   "outputs": [
    {
     "data": {
      "image/png": "[encoded data removed]",
      "text/plain": [
       "<Figure size 432x288 with 1 Axes>"
      ]
     },
     "metadata": {
      "needs_background": "light"
     },
     "output_type": "display_data"
    }
   ],
   "source": [
    "def f(x):\n",
    "    return 100*x\n",
    "\n",
    "def h(x):\n",
    "    return x    \n",
    "\n",
    "fx_name = r'$f(x)=100x$'\n",
    "hx_name = r'$h(x)=x$'\n",
    "\n",
    "# f(x)\n",
    "x0=np.setdiff1d(np.linspace(-10,10,100),[0]) #to remove the zero\n",
    "y0=f(x)\n",
    "\n",
    "# h(x)\n",
    "x1=np.setdiff1d(np.linspace(-10,10,100),[0]) #to remove the zero\n",
    "y1=h(x)\n",
    "\n",
    "plt.plot(x0, y0, label=fx_name)\n",
    "# plt.plot(x1, y1, label=hx_name)\n",
    "plt.legend(loc='upper left')\n",
    "plt.show()"
   ]
  },
  {
   "cell_type": "markdown",
   "metadata": {},
   "source": [
    "question: in the matplotlib cell above, why does increasing 'a' in function f(x) = a*x cause f(x) to lay horizontal, however it should stand vertical?\n",
    "    answer: \n",
    "    [] have to make the plt. graph static and not dynamic, co-ords not dynamically changing to adapt to function.\n",
    "\n",
    "question: why does changing funciton f(x) cause h(x) to change also?\n",
    "    answer: changing the return in the function f(x) = x to f(x) = 3*x gives the correct result, i was changing y0 = f(x) to y0 = 3*f(x).  \n"
   ]
  }
 ],
 "metadata": {
  "kernelspec": {
   "display_name": "Python 3.10.5 64-bit",
   "language": "python",
   "name": "python3"
  },
  "language_info": {
   "codemirror_mode": {
    "name": "ipython",
    "version": 3
   },
   "file_extension": ".py",
   "mimetype": "text/x-python",
   "name": "python",
   "nbconvert_exporter": "python",
   "pygments_lexer": "ipython3",
   "version": "3.10.5"
  },
  "orig_nbformat": 4,
  "vscode": {
   "interpreter": {
    "hash": "6eb5088ecd5614fb5e51df2687db6b35c73d032ac815a1920f76df2e555df4d5"
   }
  }
 },
 "nbformat": 4,
 "nbformat_minor": 2
}
